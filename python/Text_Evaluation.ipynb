{
 "cells": [
  {
   "cell_type": "code",
   "execution_count": 2,
   "id": "8c6c8d20-9f5c-42f1-928d-6b7ed154f9ee",
   "metadata": {
    "ExecuteTime": {
     "start_time": "2023-03-14T15:46:30.226179Z",
     "end_time": "2023-03-14T15:46:30.232188Z"
    }
   },
   "outputs": [],
   "source": [
    "import argparse\n",
    "import sys\n",
    "from collections import Counter\n",
    "import numpy as np \n",
    "import pandas as pd\n",
    "from tqdm import tqdm\n",
    "import re\n",
    "import numpy as np\n",
    "import seaborn as sns; sns.set_theme()\n",
    "import matplotlib.pyplot as plt\n",
    "from matplotlib.colors import LinearSegmentedColormap\n",
    "\n",
    "colors = [\"#EBCCB7\",\"#C50F36\"]\n",
    "custom_color_map = LinearSegmentedColormap.from_list(\n",
    "    name='custom_cmap',\n",
    "    colors=colors,\n",
    ")"
   ]
  },
  {
   "cell_type": "markdown",
   "id": "222c7c05-f2f4-4d0b-a838-9115c0e3a6e0",
   "metadata": {},
   "source": [
    "### Generate labels here"
   ]
  },
  {
   "cell_type": "code",
   "execution_count": 5,
   "id": "51df6e91-0837-4c15-88dd-e03dce359e1e",
   "metadata": {
    "tags": []
   },
   "outputs": [
    {
     "ename": "FileNotFoundError",
     "evalue": "[Errno 2] No such file or directory: 'test_texts_NOGROUP.csv'",
     "output_type": "error",
     "traceback": [
      "\u001B[1;31m---------------------------------------------------------------------------\u001B[0m",
      "\u001B[1;31mFileNotFoundError\u001B[0m                         Traceback (most recent call last)",
      "Cell \u001B[1;32mIn[5], line 1\u001B[0m\n\u001B[1;32m----> 1\u001B[0m labels_df \u001B[38;5;241m=\u001B[39m \u001B[43mpd\u001B[49m\u001B[38;5;241;43m.\u001B[39;49m\u001B[43mread_csv\u001B[49m\u001B[43m(\u001B[49m\u001B[38;5;124;43m'\u001B[39;49m\u001B[38;5;124;43mtest_texts_NOGROUP.csv\u001B[39;49m\u001B[38;5;124;43m'\u001B[39;49m\u001B[43m,\u001B[49m\u001B[43m \u001B[49m\u001B[43msep\u001B[49m\u001B[38;5;241;43m=\u001B[39;49m\u001B[38;5;124;43m'\u001B[39;49m\u001B[38;5;130;43;01m\\t\u001B[39;49;00m\u001B[38;5;124;43m'\u001B[39;49m\u001B[43m)\u001B[49m\n\u001B[0;32m      2\u001B[0m labels_df \u001B[38;5;241m=\u001B[39m labels_df\u001B[38;5;241m.\u001B[39mdropna()\n\u001B[0;32m      3\u001B[0m labels \u001B[38;5;241m=\u001B[39m \u001B[38;5;28mlist\u001B[39m()\n",
      "File \u001B[1;32m~\\AppData\\Local\\Programs\\Python\\Python311\\Lib\\site-packages\\pandas\\util\\_decorators.py:211\u001B[0m, in \u001B[0;36mdeprecate_kwarg.<locals>._deprecate_kwarg.<locals>.wrapper\u001B[1;34m(*args, **kwargs)\u001B[0m\n\u001B[0;32m    209\u001B[0m     \u001B[38;5;28;01melse\u001B[39;00m:\n\u001B[0;32m    210\u001B[0m         kwargs[new_arg_name] \u001B[38;5;241m=\u001B[39m new_arg_value\n\u001B[1;32m--> 211\u001B[0m \u001B[38;5;28;01mreturn\u001B[39;00m \u001B[43mfunc\u001B[49m\u001B[43m(\u001B[49m\u001B[38;5;241;43m*\u001B[39;49m\u001B[43margs\u001B[49m\u001B[43m,\u001B[49m\u001B[43m \u001B[49m\u001B[38;5;241;43m*\u001B[39;49m\u001B[38;5;241;43m*\u001B[39;49m\u001B[43mkwargs\u001B[49m\u001B[43m)\u001B[49m\n",
      "File \u001B[1;32m~\\AppData\\Local\\Programs\\Python\\Python311\\Lib\\site-packages\\pandas\\util\\_decorators.py:331\u001B[0m, in \u001B[0;36mdeprecate_nonkeyword_arguments.<locals>.decorate.<locals>.wrapper\u001B[1;34m(*args, **kwargs)\u001B[0m\n\u001B[0;32m    325\u001B[0m \u001B[38;5;28;01mif\u001B[39;00m \u001B[38;5;28mlen\u001B[39m(args) \u001B[38;5;241m>\u001B[39m num_allow_args:\n\u001B[0;32m    326\u001B[0m     warnings\u001B[38;5;241m.\u001B[39mwarn(\n\u001B[0;32m    327\u001B[0m         msg\u001B[38;5;241m.\u001B[39mformat(arguments\u001B[38;5;241m=\u001B[39m_format_argument_list(allow_args)),\n\u001B[0;32m    328\u001B[0m         \u001B[38;5;167;01mFutureWarning\u001B[39;00m,\n\u001B[0;32m    329\u001B[0m         stacklevel\u001B[38;5;241m=\u001B[39mfind_stack_level(),\n\u001B[0;32m    330\u001B[0m     )\n\u001B[1;32m--> 331\u001B[0m \u001B[38;5;28;01mreturn\u001B[39;00m \u001B[43mfunc\u001B[49m\u001B[43m(\u001B[49m\u001B[38;5;241;43m*\u001B[39;49m\u001B[43margs\u001B[49m\u001B[43m,\u001B[49m\u001B[43m \u001B[49m\u001B[38;5;241;43m*\u001B[39;49m\u001B[38;5;241;43m*\u001B[39;49m\u001B[43mkwargs\u001B[49m\u001B[43m)\u001B[49m\n",
      "File \u001B[1;32m~\\AppData\\Local\\Programs\\Python\\Python311\\Lib\\site-packages\\pandas\\io\\parsers\\readers.py:950\u001B[0m, in \u001B[0;36mread_csv\u001B[1;34m(filepath_or_buffer, sep, delimiter, header, names, index_col, usecols, squeeze, prefix, mangle_dupe_cols, dtype, engine, converters, true_values, false_values, skipinitialspace, skiprows, skipfooter, nrows, na_values, keep_default_na, na_filter, verbose, skip_blank_lines, parse_dates, infer_datetime_format, keep_date_col, date_parser, dayfirst, cache_dates, iterator, chunksize, compression, thousands, decimal, lineterminator, quotechar, quoting, doublequote, escapechar, comment, encoding, encoding_errors, dialect, error_bad_lines, warn_bad_lines, on_bad_lines, delim_whitespace, low_memory, memory_map, float_precision, storage_options)\u001B[0m\n\u001B[0;32m    935\u001B[0m kwds_defaults \u001B[38;5;241m=\u001B[39m _refine_defaults_read(\n\u001B[0;32m    936\u001B[0m     dialect,\n\u001B[0;32m    937\u001B[0m     delimiter,\n\u001B[1;32m   (...)\u001B[0m\n\u001B[0;32m    946\u001B[0m     defaults\u001B[38;5;241m=\u001B[39m{\u001B[38;5;124m\"\u001B[39m\u001B[38;5;124mdelimiter\u001B[39m\u001B[38;5;124m\"\u001B[39m: \u001B[38;5;124m\"\u001B[39m\u001B[38;5;124m,\u001B[39m\u001B[38;5;124m\"\u001B[39m},\n\u001B[0;32m    947\u001B[0m )\n\u001B[0;32m    948\u001B[0m kwds\u001B[38;5;241m.\u001B[39mupdate(kwds_defaults)\n\u001B[1;32m--> 950\u001B[0m \u001B[38;5;28;01mreturn\u001B[39;00m \u001B[43m_read\u001B[49m\u001B[43m(\u001B[49m\u001B[43mfilepath_or_buffer\u001B[49m\u001B[43m,\u001B[49m\u001B[43m \u001B[49m\u001B[43mkwds\u001B[49m\u001B[43m)\u001B[49m\n",
      "File \u001B[1;32m~\\AppData\\Local\\Programs\\Python\\Python311\\Lib\\site-packages\\pandas\\io\\parsers\\readers.py:605\u001B[0m, in \u001B[0;36m_read\u001B[1;34m(filepath_or_buffer, kwds)\u001B[0m\n\u001B[0;32m    602\u001B[0m _validate_names(kwds\u001B[38;5;241m.\u001B[39mget(\u001B[38;5;124m\"\u001B[39m\u001B[38;5;124mnames\u001B[39m\u001B[38;5;124m\"\u001B[39m, \u001B[38;5;28;01mNone\u001B[39;00m))\n\u001B[0;32m    604\u001B[0m \u001B[38;5;66;03m# Create the parser.\u001B[39;00m\n\u001B[1;32m--> 605\u001B[0m parser \u001B[38;5;241m=\u001B[39m \u001B[43mTextFileReader\u001B[49m\u001B[43m(\u001B[49m\u001B[43mfilepath_or_buffer\u001B[49m\u001B[43m,\u001B[49m\u001B[43m \u001B[49m\u001B[38;5;241;43m*\u001B[39;49m\u001B[38;5;241;43m*\u001B[39;49m\u001B[43mkwds\u001B[49m\u001B[43m)\u001B[49m\n\u001B[0;32m    607\u001B[0m \u001B[38;5;28;01mif\u001B[39;00m chunksize \u001B[38;5;129;01mor\u001B[39;00m iterator:\n\u001B[0;32m    608\u001B[0m     \u001B[38;5;28;01mreturn\u001B[39;00m parser\n",
      "File \u001B[1;32m~\\AppData\\Local\\Programs\\Python\\Python311\\Lib\\site-packages\\pandas\\io\\parsers\\readers.py:1442\u001B[0m, in \u001B[0;36mTextFileReader.__init__\u001B[1;34m(self, f, engine, **kwds)\u001B[0m\n\u001B[0;32m   1439\u001B[0m     \u001B[38;5;28mself\u001B[39m\u001B[38;5;241m.\u001B[39moptions[\u001B[38;5;124m\"\u001B[39m\u001B[38;5;124mhas_index_names\u001B[39m\u001B[38;5;124m\"\u001B[39m] \u001B[38;5;241m=\u001B[39m kwds[\u001B[38;5;124m\"\u001B[39m\u001B[38;5;124mhas_index_names\u001B[39m\u001B[38;5;124m\"\u001B[39m]\n\u001B[0;32m   1441\u001B[0m \u001B[38;5;28mself\u001B[39m\u001B[38;5;241m.\u001B[39mhandles: IOHandles \u001B[38;5;241m|\u001B[39m \u001B[38;5;28;01mNone\u001B[39;00m \u001B[38;5;241m=\u001B[39m \u001B[38;5;28;01mNone\u001B[39;00m\n\u001B[1;32m-> 1442\u001B[0m \u001B[38;5;28mself\u001B[39m\u001B[38;5;241m.\u001B[39m_engine \u001B[38;5;241m=\u001B[39m \u001B[38;5;28;43mself\u001B[39;49m\u001B[38;5;241;43m.\u001B[39;49m\u001B[43m_make_engine\u001B[49m\u001B[43m(\u001B[49m\u001B[43mf\u001B[49m\u001B[43m,\u001B[49m\u001B[43m \u001B[49m\u001B[38;5;28;43mself\u001B[39;49m\u001B[38;5;241;43m.\u001B[39;49m\u001B[43mengine\u001B[49m\u001B[43m)\u001B[49m\n",
      "File \u001B[1;32m~\\AppData\\Local\\Programs\\Python\\Python311\\Lib\\site-packages\\pandas\\io\\parsers\\readers.py:1735\u001B[0m, in \u001B[0;36mTextFileReader._make_engine\u001B[1;34m(self, f, engine)\u001B[0m\n\u001B[0;32m   1733\u001B[0m     \u001B[38;5;28;01mif\u001B[39;00m \u001B[38;5;124m\"\u001B[39m\u001B[38;5;124mb\u001B[39m\u001B[38;5;124m\"\u001B[39m \u001B[38;5;129;01mnot\u001B[39;00m \u001B[38;5;129;01min\u001B[39;00m mode:\n\u001B[0;32m   1734\u001B[0m         mode \u001B[38;5;241m+\u001B[39m\u001B[38;5;241m=\u001B[39m \u001B[38;5;124m\"\u001B[39m\u001B[38;5;124mb\u001B[39m\u001B[38;5;124m\"\u001B[39m\n\u001B[1;32m-> 1735\u001B[0m \u001B[38;5;28mself\u001B[39m\u001B[38;5;241m.\u001B[39mhandles \u001B[38;5;241m=\u001B[39m \u001B[43mget_handle\u001B[49m\u001B[43m(\u001B[49m\n\u001B[0;32m   1736\u001B[0m \u001B[43m    \u001B[49m\u001B[43mf\u001B[49m\u001B[43m,\u001B[49m\n\u001B[0;32m   1737\u001B[0m \u001B[43m    \u001B[49m\u001B[43mmode\u001B[49m\u001B[43m,\u001B[49m\n\u001B[0;32m   1738\u001B[0m \u001B[43m    \u001B[49m\u001B[43mencoding\u001B[49m\u001B[38;5;241;43m=\u001B[39;49m\u001B[38;5;28;43mself\u001B[39;49m\u001B[38;5;241;43m.\u001B[39;49m\u001B[43moptions\u001B[49m\u001B[38;5;241;43m.\u001B[39;49m\u001B[43mget\u001B[49m\u001B[43m(\u001B[49m\u001B[38;5;124;43m\"\u001B[39;49m\u001B[38;5;124;43mencoding\u001B[39;49m\u001B[38;5;124;43m\"\u001B[39;49m\u001B[43m,\u001B[49m\u001B[43m \u001B[49m\u001B[38;5;28;43;01mNone\u001B[39;49;00m\u001B[43m)\u001B[49m\u001B[43m,\u001B[49m\n\u001B[0;32m   1739\u001B[0m \u001B[43m    \u001B[49m\u001B[43mcompression\u001B[49m\u001B[38;5;241;43m=\u001B[39;49m\u001B[38;5;28;43mself\u001B[39;49m\u001B[38;5;241;43m.\u001B[39;49m\u001B[43moptions\u001B[49m\u001B[38;5;241;43m.\u001B[39;49m\u001B[43mget\u001B[49m\u001B[43m(\u001B[49m\u001B[38;5;124;43m\"\u001B[39;49m\u001B[38;5;124;43mcompression\u001B[39;49m\u001B[38;5;124;43m\"\u001B[39;49m\u001B[43m,\u001B[49m\u001B[43m \u001B[49m\u001B[38;5;28;43;01mNone\u001B[39;49;00m\u001B[43m)\u001B[49m\u001B[43m,\u001B[49m\n\u001B[0;32m   1740\u001B[0m \u001B[43m    \u001B[49m\u001B[43mmemory_map\u001B[49m\u001B[38;5;241;43m=\u001B[39;49m\u001B[38;5;28;43mself\u001B[39;49m\u001B[38;5;241;43m.\u001B[39;49m\u001B[43moptions\u001B[49m\u001B[38;5;241;43m.\u001B[39;49m\u001B[43mget\u001B[49m\u001B[43m(\u001B[49m\u001B[38;5;124;43m\"\u001B[39;49m\u001B[38;5;124;43mmemory_map\u001B[39;49m\u001B[38;5;124;43m\"\u001B[39;49m\u001B[43m,\u001B[49m\u001B[43m \u001B[49m\u001B[38;5;28;43;01mFalse\u001B[39;49;00m\u001B[43m)\u001B[49m\u001B[43m,\u001B[49m\n\u001B[0;32m   1741\u001B[0m \u001B[43m    \u001B[49m\u001B[43mis_text\u001B[49m\u001B[38;5;241;43m=\u001B[39;49m\u001B[43mis_text\u001B[49m\u001B[43m,\u001B[49m\n\u001B[0;32m   1742\u001B[0m \u001B[43m    \u001B[49m\u001B[43merrors\u001B[49m\u001B[38;5;241;43m=\u001B[39;49m\u001B[38;5;28;43mself\u001B[39;49m\u001B[38;5;241;43m.\u001B[39;49m\u001B[43moptions\u001B[49m\u001B[38;5;241;43m.\u001B[39;49m\u001B[43mget\u001B[49m\u001B[43m(\u001B[49m\u001B[38;5;124;43m\"\u001B[39;49m\u001B[38;5;124;43mencoding_errors\u001B[39;49m\u001B[38;5;124;43m\"\u001B[39;49m\u001B[43m,\u001B[49m\u001B[43m \u001B[49m\u001B[38;5;124;43m\"\u001B[39;49m\u001B[38;5;124;43mstrict\u001B[39;49m\u001B[38;5;124;43m\"\u001B[39;49m\u001B[43m)\u001B[49m\u001B[43m,\u001B[49m\n\u001B[0;32m   1743\u001B[0m \u001B[43m    \u001B[49m\u001B[43mstorage_options\u001B[49m\u001B[38;5;241;43m=\u001B[39;49m\u001B[38;5;28;43mself\u001B[39;49m\u001B[38;5;241;43m.\u001B[39;49m\u001B[43moptions\u001B[49m\u001B[38;5;241;43m.\u001B[39;49m\u001B[43mget\u001B[49m\u001B[43m(\u001B[49m\u001B[38;5;124;43m\"\u001B[39;49m\u001B[38;5;124;43mstorage_options\u001B[39;49m\u001B[38;5;124;43m\"\u001B[39;49m\u001B[43m,\u001B[49m\u001B[43m \u001B[49m\u001B[38;5;28;43;01mNone\u001B[39;49;00m\u001B[43m)\u001B[49m\u001B[43m,\u001B[49m\n\u001B[0;32m   1744\u001B[0m \u001B[43m\u001B[49m\u001B[43m)\u001B[49m\n\u001B[0;32m   1745\u001B[0m \u001B[38;5;28;01massert\u001B[39;00m \u001B[38;5;28mself\u001B[39m\u001B[38;5;241m.\u001B[39mhandles \u001B[38;5;129;01mis\u001B[39;00m \u001B[38;5;129;01mnot\u001B[39;00m \u001B[38;5;28;01mNone\u001B[39;00m\n\u001B[0;32m   1746\u001B[0m f \u001B[38;5;241m=\u001B[39m \u001B[38;5;28mself\u001B[39m\u001B[38;5;241m.\u001B[39mhandles\u001B[38;5;241m.\u001B[39mhandle\n",
      "File \u001B[1;32m~\\AppData\\Local\\Programs\\Python\\Python311\\Lib\\site-packages\\pandas\\io\\common.py:856\u001B[0m, in \u001B[0;36mget_handle\u001B[1;34m(path_or_buf, mode, encoding, compression, memory_map, is_text, errors, storage_options)\u001B[0m\n\u001B[0;32m    851\u001B[0m \u001B[38;5;28;01melif\u001B[39;00m \u001B[38;5;28misinstance\u001B[39m(handle, \u001B[38;5;28mstr\u001B[39m):\n\u001B[0;32m    852\u001B[0m     \u001B[38;5;66;03m# Check whether the filename is to be opened in binary mode.\u001B[39;00m\n\u001B[0;32m    853\u001B[0m     \u001B[38;5;66;03m# Binary mode does not support 'encoding' and 'newline'.\u001B[39;00m\n\u001B[0;32m    854\u001B[0m     \u001B[38;5;28;01mif\u001B[39;00m ioargs\u001B[38;5;241m.\u001B[39mencoding \u001B[38;5;129;01mand\u001B[39;00m \u001B[38;5;124m\"\u001B[39m\u001B[38;5;124mb\u001B[39m\u001B[38;5;124m\"\u001B[39m \u001B[38;5;129;01mnot\u001B[39;00m \u001B[38;5;129;01min\u001B[39;00m ioargs\u001B[38;5;241m.\u001B[39mmode:\n\u001B[0;32m    855\u001B[0m         \u001B[38;5;66;03m# Encoding\u001B[39;00m\n\u001B[1;32m--> 856\u001B[0m         handle \u001B[38;5;241m=\u001B[39m \u001B[38;5;28;43mopen\u001B[39;49m\u001B[43m(\u001B[49m\n\u001B[0;32m    857\u001B[0m \u001B[43m            \u001B[49m\u001B[43mhandle\u001B[49m\u001B[43m,\u001B[49m\n\u001B[0;32m    858\u001B[0m \u001B[43m            \u001B[49m\u001B[43mioargs\u001B[49m\u001B[38;5;241;43m.\u001B[39;49m\u001B[43mmode\u001B[49m\u001B[43m,\u001B[49m\n\u001B[0;32m    859\u001B[0m \u001B[43m            \u001B[49m\u001B[43mencoding\u001B[49m\u001B[38;5;241;43m=\u001B[39;49m\u001B[43mioargs\u001B[49m\u001B[38;5;241;43m.\u001B[39;49m\u001B[43mencoding\u001B[49m\u001B[43m,\u001B[49m\n\u001B[0;32m    860\u001B[0m \u001B[43m            \u001B[49m\u001B[43merrors\u001B[49m\u001B[38;5;241;43m=\u001B[39;49m\u001B[43merrors\u001B[49m\u001B[43m,\u001B[49m\n\u001B[0;32m    861\u001B[0m \u001B[43m            \u001B[49m\u001B[43mnewline\u001B[49m\u001B[38;5;241;43m=\u001B[39;49m\u001B[38;5;124;43m\"\u001B[39;49m\u001B[38;5;124;43m\"\u001B[39;49m\u001B[43m,\u001B[49m\n\u001B[0;32m    862\u001B[0m \u001B[43m        \u001B[49m\u001B[43m)\u001B[49m\n\u001B[0;32m    863\u001B[0m     \u001B[38;5;28;01melse\u001B[39;00m:\n\u001B[0;32m    864\u001B[0m         \u001B[38;5;66;03m# Binary mode\u001B[39;00m\n\u001B[0;32m    865\u001B[0m         handle \u001B[38;5;241m=\u001B[39m \u001B[38;5;28mopen\u001B[39m(handle, ioargs\u001B[38;5;241m.\u001B[39mmode)\n",
      "\u001B[1;31mFileNotFoundError\u001B[0m: [Errno 2] No such file or directory: 'test_texts_NOGROUP.csv'"
     ]
    }
   ],
   "source": [
    "labels_df = pd.read_csv('test_texts_NOGROUP.csv', sep='\\t')\n",
    "labels_df = labels_df.dropna()\n",
    "labels = list()\n",
    "\n",
    "for index, row in tqdm(labels_df.iterrows()):\n",
    "    marker1, marker2, marker3 = '<triplet>', '<sub>', '<obj>'\n",
    "    rp1 = marker1 + '.+?' + marker2\n",
    "    rp2 = marker2 + '.+?' + marker3\n",
    "    rp3 = marker3 + '.+?' + marker1\n",
    "    head_ents = re.findall(rp1, row.triplets)\n",
    "    tail_ents = re.findall(rp2, row.triplets)\n",
    "    relations = re.findall(rp3, row.triplets)\n",
    "    \n",
    "    head_ents_clean = list()\n",
    "    tail_ents_clean = list()\n",
    "    relations_clean = list()\n",
    "    \n",
    "    for i in head_ents:\n",
    "        result = re.search('<triplet>(.*)<sub>', i)\n",
    "        head_ents_clean.append(result.group(1).strip())\n",
    "    for i in tail_ents:\n",
    "        result = re.search('<sub>(.*)<obj>', i)\n",
    "        tail_ents_clean.append(result.group(1).strip())\n",
    "    for i in relations:\n",
    "        result = re.search('<obj>(.*)<triplet>', i)\n",
    "        relations_clean.append(result.group(1).strip())\n",
    "        \n",
    "    len_str = len(row.triplets)\n",
    "    if len(relations_clean) < len(head_ents_clean):\n",
    "        work = row.triplets[len_str - 11 :]\n",
    "        last_rel = work.partition(\">\")[2]\n",
    "        relations_clean.append(last_rel.strip())\n",
    "    \n",
    "    \n",
    "    sample = list()\n",
    "    for i in range(len(head_ents_clean)):\n",
    "        entry = dict()\n",
    "        entry['head'] = head_ents_clean[i]\n",
    "        entry['type'] = relations_clean[i]\n",
    "        entry['tail'] = tail_ents_clean[i]\n",
    "        sample.append(entry)\n",
    "    \n",
    "    labels.append(sample)\n",
    "    \n",
    "    \n",
    "    \n",
    "gold_cleaned = []\n",
    "for i in labels:\n",
    "    entry = []\n",
    "    for u in i:\n",
    "        if not entry:\n",
    "            entry.append(u)\n",
    "        elif u not in entry:\n",
    "            entry.append(u)\n",
    "           \n",
    "    gold_cleaned.append(entry)"
   ]
  },
  {
   "cell_type": "code",
   "execution_count": 4,
   "id": "4ee2a213-b9f8-4ece-95ca-d0e93ff17bdf",
   "metadata": {},
   "outputs": [
    {
     "ename": "NameError",
     "evalue": "name 'gold_cleaned' is not defined",
     "output_type": "error",
     "traceback": [
      "\u001B[1;31m---------------------------------------------------------------------------\u001B[0m",
      "\u001B[1;31mNameError\u001B[0m                                 Traceback (most recent call last)",
      "Cell \u001B[1;32mIn[4], line 4\u001B[0m\n\u001B[0;32m      2\u001B[0m rt \u001B[38;5;241m=\u001B[39m \u001B[38;5;124m'\u001B[39m\u001B[38;5;124mRECEIVES\u001B[39m\u001B[38;5;124m'\u001B[39m\n\u001B[0;32m      3\u001B[0m gold_cleaned_rt \u001B[38;5;241m=\u001B[39m \u001B[38;5;28mlist\u001B[39m()\n\u001B[1;32m----> 4\u001B[0m \u001B[38;5;28;01mfor\u001B[39;00m i \u001B[38;5;129;01min\u001B[39;00m \u001B[43mgold_cleaned\u001B[49m:\n\u001B[0;32m      5\u001B[0m     sample \u001B[38;5;241m=\u001B[39m \u001B[38;5;28mlist\u001B[39m()\n\u001B[0;32m      6\u001B[0m     \u001B[38;5;28;01mfor\u001B[39;00m u \u001B[38;5;129;01min\u001B[39;00m i:\n",
      "\u001B[1;31mNameError\u001B[0m: name 'gold_cleaned' is not defined"
     ]
    }
   ],
   "source": [
    "\"\"\"could be interesting to see the recall for each relation type \"\"\"\n",
    "rt = 'RECEIVES'\n",
    "gold_cleaned_rt = list()\n",
    "for i in gold_cleaned:\n",
    "    sample = list()\n",
    "    for u in i:\n",
    "        if u['type'] == rt:\n",
    "            sample.append(u)\n",
    "    gold_cleaned_rt.append(sample)"
   ]
  },
  {
   "cell_type": "markdown",
   "id": "f8863972-07ae-4443-9ebf-5fb942505fac",
   "metadata": {},
   "source": [
    "### Predictions"
   ]
  },
  {
   "cell_type": "code",
   "execution_count": 4,
   "id": "a5337a0c-36a8-45ad-897b-9df735c0d790",
   "metadata": {},
   "outputs": [],
   "source": [
    "predict_df = pd.read_json('predictions_2411_textfinetune.json')\n",
    "\n",
    "predictions = list()\n",
    "\n",
    "for index, row in predict_df.iterrows():\n",
    "    entry = []\n",
    "    \n",
    "    if row[0] is not None:\n",
    "        for each in row[0]:\n",
    "            entry.append(each)\n",
    "    if row[1] is not None:\n",
    "        for each in row[1]:\n",
    "            entry.append(each)\n",
    "    if row[2] is not None:\n",
    "        for each in row[2]:\n",
    "            entry.append(each)\n",
    "    \n",
    "    predictions.append(entry)\n",
    "    \n",
    "predictions_cleaned = []\n",
    "for i in predictions:\n",
    "    entry = []\n",
    "    for u in i:\n",
    "        if not entry:\n",
    "            entry.append(u)\n",
    "        elif u not in entry:\n",
    "            entry.append(u)\n",
    "           \n",
    "    predictions_cleaned.append(entry)"
   ]
  },
  {
   "cell_type": "markdown",
   "id": "93c8b9f2-670d-473f-846a-13d3e1b83402",
   "metadata": {},
   "source": [
    "## Metric definition"
   ]
  },
  {
   "cell_type": "code",
   "execution_count": 5,
   "id": "6fb03fad-a0db-4a7b-a83e-879f311ac4ad",
   "metadata": {},
   "outputs": [],
   "source": [
    "def calculate_metrics(tp, fp, rel):\n",
    "    precision = 100 * (len(tp) / (len(tp) + len(fp))) \n",
    "    recall = 100 * (len(tp) / rel)\n",
    "    f1score = 2* ( (precision * recall) / (precision + recall) )\n",
    "    return precision, recall, f1score"
   ]
  },
  {
   "cell_type": "code",
   "execution_count": 6,
   "id": "c8041dbf-e877-4337-964b-48fd6bb443b1",
   "metadata": {},
   "outputs": [],
   "source": [
    "def tp_fp_fn_rel(approach, gold, pred):\n",
    "    \n",
    "    tp, fp, rel, fn = list(), list(), int(), list()\n",
    "    \n",
    "    \"\"\"tp if whole triplet is correctly predicted\"\"\"\n",
    "    if approach == 'triplet': \n",
    "        #calculate tp and fp\n",
    "        for i in enumerate(pred): \n",
    "            \n",
    "            for u in i[1]:\n",
    "                if u in gold[i[0]]:\n",
    "                    tp.append(u)\n",
    "                else:\n",
    "                    fp.append(u)\n",
    "            \n",
    "            for u in gold[i[0]]:\n",
    "                rel+=1\n",
    "                if u not in i[1]:\n",
    "                    fn.append(u)\n",
    "            \n",
    "\n",
    "    \"\"\"PROBLEM FOR ALL OF THEM\"\"\"\n",
    "    \"\"\"WE CANNOT COMPARE PER TRIPLET BUT PER ARTICLE\"\"\"\n",
    "    \"\"\"THEREFORE, ONLY SET-WISE COMPARISON MAKES SENSE\"\"\"\n",
    "    \n",
    "    \n",
    "    \"\"\"tp if head is correctly predicted\"\"\"\n",
    "    if approach == 'head':\n",
    "        #calculate tp and fp\n",
    "        for i in enumerate(pred):\n",
    "            #calculate tp heads for each article\n",
    "            \n",
    "            gold_heads = list()\n",
    "            for u in enumerate(gold[i[0]]):\n",
    "                gold_heads.append(u[1]['head'])\n",
    "            gold_heads = set(gold_heads)\n",
    "            \n",
    "            preds_sample = list()\n",
    "            for u in i[1]:\n",
    "                preds_sample.append(u['head'])\n",
    "            preds_sample = set(preds_sample)\n",
    "            \n",
    "            #check for each article if prediction heads occur in gold heads\n",
    "            for u in preds_sample:\n",
    "                if u in gold_heads:\n",
    "                    tp.append(u)\n",
    "                else:\n",
    "                    fp.append(u)\n",
    "                    \n",
    "            for u in gold_heads:\n",
    "                rel +=1\n",
    "                if u not in preds_sample:\n",
    "                    fn.append(u)\n",
    "        \n",
    "    \"\"\"tp if tail is correctly predicted\"\"\"    \n",
    "    if approach == 'tail':\n",
    "        #calculate tp and fp\n",
    "        for i in enumerate(pred):\n",
    "            #calculate tp heads for each article\n",
    "            \n",
    "            gold_tails = list()\n",
    "            for u in enumerate(gold[i[0]]):\n",
    "                gold_tails.append(u[1]['tail'])\n",
    "            gold_tails = set(gold_tails)\n",
    "            \n",
    "            preds_sample = list()\n",
    "            for u in i[1]:\n",
    "                preds_sample.append(u['tail'])\n",
    "            preds_sample = set(preds_sample)\n",
    "            \n",
    "            #check for each article if prediction heads occur in gold heads\n",
    "            for u in preds_sample:\n",
    "                if u in gold_tails:\n",
    "                    tp.append(u)\n",
    "                else:\n",
    "                    fp.append(u)\n",
    "                    \n",
    "            for u in gold_tails:\n",
    "                rel +=1\n",
    "                if u not in preds_sample:\n",
    "                    fn.append(u)\n",
    "    \n",
    "    \"\"\"tp if relation is correctly predicted\"\"\"\n",
    "    if approach == 'relation':\n",
    "        #calculate tp and fp\n",
    "        for i in enumerate(pred):\n",
    "            #calculate tp heads for each article\n",
    "            \n",
    "            gold_types = list()\n",
    "            for u in enumerate(gold[i[0]]):\n",
    "                gold_types.append(u[1]['type'])\n",
    "            gold_types = set(gold_types)\n",
    "            \n",
    "            preds_sample = list()\n",
    "            for u in i[1]:\n",
    "                preds_sample.append(u['type'])\n",
    "            preds_sample = set(preds_sample)\n",
    "            \n",
    "            #check for each article if prediction heads occur in gold heads\n",
    "            for u in preds_sample:\n",
    "                if u in gold_types:\n",
    "                    tp.append(u)\n",
    "                else:\n",
    "                    fp.append(u)\n",
    "                    \n",
    "            for u in gold_types:\n",
    "                rel +=1\n",
    "                if u not in preds_sample:\n",
    "                    fn.append(u)\n",
    "    \n",
    "    return tp, fp, fn, rel"
   ]
  },
  {
   "cell_type": "code",
   "execution_count": 7,
   "id": "f03517f9-7d8a-4ba0-87c1-7492054ba2c4",
   "metadata": {},
   "outputs": [],
   "source": [
    "def confusion_matrix(tp, fp, fn, title, tn = 0):\n",
    "   # sns.set(font_scale=2)\n",
    "   # cm = np.array([[len(tp), len(fp)], [len(fn), tn]])\n",
    "   # classes = ['true triplets', 'false triplets']\n",
    "   # \n",
    "   # fig, axs = plt.subplots()\n",
    "   # plt.subplots_adjust(left=0.2, bottom=0.2)\n",
    "   # \n",
    "   # hm = sns.heatmap(cm, cmap = custom_color_map, annot=True, xticklabels=classes, yticklabels=classes, cbar=False, fmt=\"d\",ax = axs)\n",
    "   # hm.set(title=title, xlabel=\"predicted label\", ylabel=\"true label\")\n",
    "   # sns.set_theme(rc = {'figure.figsize':(10,7)})\n",
    "   # precision, recall, f1score = calculate_metrics(tp, fp, rel)\n",
    "   # \n",
    "   # table = plt.table(cellText=[[round(precision, 1)], [round(recall, 1)], [round(f1score, 1)]], \n",
    "   #                 rowLabels=['Precision', 'Recall', 'F1-Score'],\n",
    "   #                 colLabels=['Value [%]'],\n",
    "   #                 bbox = ([0.3, -0.6, 0.5, 0.3]))\n",
    "   # \n",
    "   # fig.savefig('test.svg')\n",
    "   # plt.show()\n",
    "\n",
    "\n",
    "    sns.set(font_scale=2)\n",
    "    cm = np.array([[len(tp), len(fn)], [len(fp), tn]])\n",
    "    classes = ['true triplets', 'false triplets']\n",
    "    \n",
    "    fig, ax = plt.subplots(figsize=(10,6))\n",
    "    ax = sns.heatmap(cm, cmap=custom_color_map, annot=True, xticklabels=classes, yticklabels=classes, cbar=False, fmt=\"d\")\n",
    "    ax.set(title=title, xlabel=\"predicted label\", ylabel=\"true label\")\n",
    "    fig.savefig('CM_Texts_Triplets_NOGROUP.svg')"
   ]
  },
  {
   "cell_type": "code",
   "execution_count": 9,
   "id": "15e31674-ce0d-4ca4-a1dd-2705abe5b4b7",
   "metadata": {
    "tags": []
   },
   "outputs": [
    {
     "name": "stdout",
     "output_type": "stream",
     "text": [
      "METRICS\n",
      "-------------------------\n",
      "Precision:  74.89 %\n",
      "Recall:  82.87 %\n",
      "F1-Score:  78.68 %\n"
     ]
    },
    {
     "data": {
      "image/png": "[encoded data removed]",
      "text/plain": [
       "<Figure size 720x432 with 1 Axes>"
      ]
     },
     "metadata": {},
     "output_type": "display_data"
    }
   ],
   "source": [
    "tp, fp, fn, rel = tp_fp_fn_rel('triplet', gold_cleaned, predictions_cleaned)\n",
    "\n",
    "precision, recall, f1score = calculate_metrics(tp, fp, rel)\n",
    "\n",
    "#title = \"confusion matrix for predictions on text\"\n",
    "confusion_matrix(tp, fp, fn, title = None)\n",
    "\n",
    "print('METRICS')\n",
    "print('-------------------------')\n",
    "print('Precision: ', round(precision, 2), '%')\n",
    "print('Recall: ', round(recall, 2), '%')\n",
    "print('F1-Score: ', round(f1score, 2), '%')"
   ]
  },
  {
   "cell_type": "markdown",
   "id": "c86505c9-72b3-4802-852e-aa0d6ded02b0",
   "metadata": {},
   "source": [
    "# Error Analysis"
   ]
  },
  {
   "cell_type": "code",
   "execution_count": 22,
   "id": "0eb30b6c-69c6-4431-9604-99f95ea8f4df",
   "metadata": {},
   "outputs": [],
   "source": [
    "def error_analysis(approach, gold, pred):\n",
    "    \n",
    "    tp, fp, rel, fn, index_fp, index_fn = list(), list(), int(), list(), list(), list()\n",
    "    \n",
    "    \"\"\"tp if whole triplet is correctly predicted\"\"\"\n",
    "    if approach == 'triplet': \n",
    "        #calculate tp and fp\n",
    "        for i in enumerate(pred): \n",
    "            for u in i[1]:\n",
    "                if u in gold[i[0]]:\n",
    "                    tp.append(u)\n",
    "                else:\n",
    "                    fp.append(u)\n",
    "                    index_fp.append(i[0])\n",
    "            \n",
    "            for u in gold[i[0]]:\n",
    "                rel+=1\n",
    "                if u not in i[1]:\n",
    "                    fn.append(u)\n",
    "                    index_fn.append(i[0])\n",
    "            \n",
    "\n",
    "    return fp, index_fp, fn, index_fn"
   ]
  },
  {
   "cell_type": "code",
   "execution_count": 31,
   "id": "1476a10a-6444-4e07-8eba-ee9cb25e19a0",
   "metadata": {},
   "outputs": [],
   "source": [
    "fp_e, index_fp, fn_e, index_fn = error_analysis('triplet', gold_cleaned, predictions_cleaned)"
   ]
  },
  {
   "cell_type": "code",
   "execution_count": 29,
   "id": "709c463c-6a87-43d9-99af-6b7242c05d69",
   "metadata": {},
   "outputs": [],
   "source": [
    "import pandas as pd\n",
    "\n",
    "new_list = [index_fp, fp_e, index_fn, fn_e]\n",
    "df = pd.DataFrame(new_list)\n",
    "\n",
    "writer = pd.ExcelWriter('errors.xlsx', engine='xlsxwriter')\n",
    "df.to_excel(writer, sheet_name='errors_raw', index=False)\n",
    "writer.save()"
   ]
  },
  {
   "cell_type": "code",
   "execution_count": 32,
   "id": "c2c122df-f7e2-441d-9c23-0164679373d2",
   "metadata": {},
   "outputs": [
    {
     "data": {
      "text/plain": [
       "232"
      ]
     },
     "execution_count": 32,
     "metadata": {},
     "output_type": "execute_result"
    }
   ],
   "source": [
    "len(fp_e)\n"
   ]
  },
  {
   "cell_type": "code",
   "execution_count": 33,
   "id": "06f39431-b8be-47b1-9dec-dad5619ecf9c",
   "metadata": {},
   "outputs": [
    {
     "data": {
      "text/plain": [
       "143"
      ]
     },
     "execution_count": 33,
     "metadata": {},
     "output_type": "execute_result"
    }
   ],
   "source": [
    "len(fn_e)"
   ]
  },
  {
   "cell_type": "code",
   "execution_count": null,
   "id": "b9787559-959f-4f77-9929-da03369a7d06",
   "metadata": {},
   "outputs": [],
   "source": []
  }
 ],
 "metadata": {
  "kernelspec": {
   "display_name": "Python 3 (ipykernel)",
   "language": "python",
   "name": "python3"
  },
  "language_info": {
   "codemirror_mode": {
    "name": "ipython",
    "version": 3
   },
   "file_extension": ".py",
   "mimetype": "text/x-python",
   "name": "python",
   "nbconvert_exporter": "python",
   "pygments_lexer": "ipython3",
   "version": "3.9.12"
  }
 },
 "nbformat": 4,
 "nbformat_minor": 5
}
