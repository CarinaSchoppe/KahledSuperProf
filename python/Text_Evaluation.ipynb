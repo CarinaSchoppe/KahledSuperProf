{
 "cells": [
  {
   "cell_type": "code",
   "execution_count": 198,
   "id": "8c6c8d20-9f5c-42f1-928d-6b7ed154f9ee",
   "metadata": {
    "ExecuteTime": {
     "start_time": "2023-03-14T21:16:16.722755Z",
     "end_time": "2023-03-14T21:16:16.729826Z"
    }
   },
   "outputs": [],
   "source": [
    "import argparse\n",
    "import sys\n",
    "from collections import Counter\n",
    "import numpy as np \n",
    "import pandas as pd\n",
    "from tqdm import tqdm\n",
    "import re\n",
    "import numpy as np\n",
    "import seaborn as sns; sns.set_theme()\n",
    "import matplotlib.pyplot as plt\n",
    "from matplotlib.colors import LinearSegmentedColormap\n",
    "\n",
    "colors = [\"#EBCCB7\",\"#C50F36\"]\n",
    "custom_color_map = LinearSegmentedColormap.from_list(\n",
    "    name='custom_cmap',\n",
    "    colors=colors,\n",
    ")"
   ]
  },
  {
   "cell_type": "markdown",
   "id": "222c7c05-f2f4-4d0b-a838-9115c0e3a6e0",
   "metadata": {},
   "source": [
    "### Generate labels here"
   ]
  },
  {
   "cell_type": "code",
   "execution_count": 199,
   "id": "51df6e91-0837-4c15-88dd-e03dce359e1e",
   "metadata": {
    "tags": [],
    "ExecuteTime": {
     "start_time": "2023-03-14T21:16:18.405994Z",
     "end_time": "2023-03-14T21:16:18.415981Z"
    }
   },
   "outputs": [
    {
     "name": "stdout",
     "output_type": "stream",
     "text": [
      "0\n"
     ]
    },
    {
     "name": "stderr",
     "output_type": "stream",
     "text": [
      "0it [00:00, ?it/s]"
     ]
    },
    {
     "name": "stdout",
     "output_type": "stream",
     "text": [
      "[]\n"
     ]
    },
    {
     "name": "stderr",
     "output_type": "stream",
     "text": [
      "\n"
     ]
    }
   ],
   "source": [
    "labels_df = pd.read_csv('../documents/results/self_results.csv', sep='\\t')\n",
    "#labels_df = pd.read_csv('../documents/test_texts_NOGROUP.csv', sep='\\t')\n",
    "labels_df = labels_df.dropna()\n",
    "labels = list()\n",
    "print(len(labels_df))\n",
    "\n",
    "for index, row in tqdm(labels_df.iterrows()):\n",
    "    marker1, marker2, marker3 = '<triplet>', '<sub>', '<obj>'\n",
    "    rp1 = marker1 + '.+?' + marker2\n",
    "    rp2 = marker2 + '.+?' + marker3\n",
    "    rp3 = marker3 + '.+?' + marker1\n",
    "    head_ents = re.findall(rp1, row.triplets)\n",
    "    tail_ents = re.findall(rp2, row.triplets)\n",
    "    relations = re.findall(rp3, row.triplets)\n",
    "    \n",
    "    head_ents_clean = list()\n",
    "    tail_ents_clean = list()\n",
    "    relations_clean = list()\n",
    "    \n",
    "    for i in head_ents:\n",
    "        result = re.search('<triplet>(.*)<sub>', i)\n",
    "        head_ents_clean.append(result.group(1).strip())\n",
    "    for i in tail_ents:\n",
    "        result = re.search('<sub>(.*)<obj>', i)\n",
    "        tail_ents_clean.append(result.group(1).strip())\n",
    "    for i in relations:\n",
    "        result = re.search('<obj>(.*)<triplet>', i)\n",
    "        relations_clean.append(result.group(1).strip())\n",
    "        \n",
    "    len_str = len(row.triplets)\n",
    "    if len(relations_clean) < len(head_ents_clean):\n",
    "        work = row.triplets[len_str - 11 :]\n",
    "        last_rel = work.partition(\">\")[2]\n",
    "        relations_clean.append(last_rel.strip())\n",
    "    \n",
    "    \n",
    "    sample = list()\n",
    "    for i in range(len(head_ents_clean)):\n",
    "        entry = dict()\n",
    "        entry['head'] = head_ents_clean[i]\n",
    "        entry['type'] = relations_clean[i]\n",
    "        entry['tail'] = tail_ents_clean[i]\n",
    "        sample.append(entry)\n",
    "    \n",
    "    labels.append(sample)\n",
    "    \n",
    "    \n",
    "    \n",
    "gold_cleaned = []\n",
    "for i in labels:\n",
    "    entry = []\n",
    "    for u in i:\n",
    "        if not entry:\n",
    "            entry.append(u)\n",
    "        elif u not in entry:\n",
    "            entry.append(u)\n",
    "           \n",
    "    gold_cleaned.append(entry)\n",
    "\n",
    "print(gold_cleaned)"
   ]
  },
  {
   "cell_type": "code",
   "execution_count": 200,
   "id": "4ee2a213-b9f8-4ece-95ca-d0e93ff17bdf",
   "metadata": {
    "ExecuteTime": {
     "start_time": "2023-03-14T21:16:19.504291Z",
     "end_time": "2023-03-14T21:16:19.515032Z"
    }
   },
   "outputs": [],
   "source": [
    "\"\"\"could be interesting to see the recall for each relation type \"\"\"\n",
    "rt = 'RECEIVES'\n",
    "gold_cleaned_rt = list()\n",
    "for i in gold_cleaned:\n",
    "    sample = list()\n",
    "    for u in i:\n",
    "        if u['type'] == rt:\n",
    "            sample.append(u)\n",
    "    gold_cleaned_rt.append(sample)"
   ]
  },
  {
   "cell_type": "markdown",
   "id": "f8863972-07ae-4443-9ebf-5fb942505fac",
   "metadata": {},
   "source": [
    "### Predictions"
   ]
  },
  {
   "cell_type": "code",
   "execution_count": 188,
   "outputs": [
    {
     "name": "stdout",
     "output_type": "stream",
     "text": [
      "177\n"
     ]
    },
    {
     "name": "stderr",
     "output_type": "stream",
     "text": [
      "177it [00:00, 25208.55it/s]"
     ]
    },
    {
     "name": "stdout",
     "output_type": "stream",
     "text": [
      "[[{'head': 'CoachHub', 'type': 'RECEIVES', 'tail': '€25 million'}, {'head': 'Draper Esprit', 'type': 'INVESTS', 'tail': '€25 million'}, {'head': 'HV Capital', 'type': 'INVESTS', 'tail': '€25 million'}, {'head': 'Partech', 'type': 'INVESTS', 'tail': '€25 million'}, {'head': 'Speedinvest', 'type': 'INVESTS', 'tail': '€25 million'}, {'head': 'signals Venture Capital', 'type': 'INVESTS', 'tail': '€25 million'}, {'head': 'RTP Global', 'type': 'INVESTS', 'tail': '€25 million'}], [{'head': 'D2', 'type': 'RECEIVES', 'tail': '€18 million'}, {'head': 'Bland Group', 'type': 'INVESTS', 'tail': '€18 million'}, {'head': 'Mountain Labs', 'type': 'INVESTS', 'tail': '€18 million'}, {'head': 'She Will Ventures', 'type': 'INVESTS', 'tail': '€18 million'}], [{'head': 'Userlane', 'type': 'RECEIVES', 'tail': '€4 million'}, {'head': 'Capnamic Ventures', 'type': 'INVESTS', 'tail': '€4 million'}, {'head': 'High Tech Gründerfonds', 'type': 'INVESTS', 'tail': '€4 million'}, {'head': 'main incubator', 'type': 'INVESTS', 'tail': '€4 million'}, {'head': 'FTR Ventures', 'type': 'INVESTS', 'tail': '€4 million'}, {'head': '€4 million', 'type': 'IN ROUND', 'tail': 'Series A'}], [{'head': 'Solivus', 'type': 'RECEIVES', 'tail': '€2.8 million'}, {'head': 'Founders Factory', 'type': 'INVESTS', 'tail': '€2.8 million'}, {'head': 'G-force', 'type': 'INVESTS', 'tail': '€2.8 million'}, {'head': 'Crowdcube investors', 'type': 'INVESTS', 'tail': '€2.8 million'}, {'head': '€2.8 million', 'type': 'IN ROUND', 'tail': 'seed investment'}], [{'head': 'LocalGlobe', 'type': 'INVESTS', 'tail': '€2.2 million'}, {'head': 'Count', 'type': 'RECEIVES', 'tail': '€2.2 million'}, {'head': '€2.2 million', 'type': 'IN ROUND', 'tail': 'seed round'}], [{'head': 'Solar Monkey', 'type': 'RECEIVES', 'tail': '€1 million'}, {'head': '4impact', 'type': 'INVESTS', 'tail': '€1 million'}, {'head': 'existing investors', 'type': 'INVESTS', 'tail': '€1 million'}], [{'head': 'Ÿnsect', 'type': 'RECEIVES', 'tail': '€110 million'}, {'head': 'Astanor Ventures', 'type': 'INVESTS', 'tail': '€110 million'}, {'head': 'Compagnie du Bois Sauvage', 'type': 'INVESTS', 'tail': '€110 million'}, {'head': 'Finasucre', 'type': 'INVESTS', 'tail': '€110 million'}, {'head': 'Idinvest Partners', 'type': 'INVESTS', 'tail': '€110 million'}, {'head': 'Talis Capital', 'type': 'INVESTS', 'tail': '€110 million'}, {'head': 'Bpifrance', 'type': 'INVESTS', 'tail': '€110 million'}, {'head': '€110 million', 'type': 'IN ROUND', 'tail': 'Series C'}], [{'head': 'Preply', 'type': 'RECEIVES', 'tail': '€9 million'}], [{'head': 'Paymill', 'type': 'RECEIVES', 'tail': '€18 million'}, {'head': 'Rocket Internet', 'type': 'INVESTS', 'tail': '€18 million'}, {'head': 'Sunstone Capital', 'type': 'INVESTS', 'tail': '€18 million'}, {'head': 'Blumberg Capital', 'type': 'INVESTS', 'tail': '€18 million'}, {'head': 'Holtzbrinck Ventures', 'type': 'INVESTS', 'tail': '€18 million'}], [{'head': 'Ramp', 'type': 'RECEIVES', 'tail': '€8.3 million'}, {'head': 'NfX', 'type': 'INVESTS', 'tail': '€8.3 million'}, {'head': 'Galaxy Digital', 'type': 'INVESTS', 'tail': '€8.3 million'}, {'head': 'Seedcamp', 'type': 'INVESTS', 'tail': '€8.3 million'}, {'head': 'firstminute capital', 'type': 'INVESTS', 'tail': '€8.3 million'}, {'head': 'Fabric Ventures', 'type': 'INVESTS', 'tail': '€8.3 million'}, {'head': 'Mozilla', 'type': 'INVESTS', 'tail': '€8.3 million'}, {'head': 'Balaji S. Srinivasan', 'type': 'INVESTS', 'tail': '€8.3 million'}, {'head': 'Taavet Hinrikus', 'type': 'INVESTS', 'tail': '€8.3 million'}, {'head': 'Roham Gharegozlou', 'type': 'INVESTS', 'tail': '€8.3 million'}, {'head': 'Bartek Pucek', 'type': 'INVESTS', 'tail': '€8.3 million'}, {'head': '€8.3 million', 'type': 'IN ROUND', 'tail': 'seed round'}], [{'head': 'Limehome', 'type': 'RECEIVES', 'tail': '€10 million'}, {'head': 'HV Holtzbrinck Ventures', 'type': 'INVESTS', 'tail': '€10 million'}, {'head': 'Lakestar', 'type': 'INVESTS', 'tail': '€10 million'}, {'head': 'Global Growth Capital', 'type': 'INVESTS', 'tail': '€10 million'}, {'head': 'Picus Capital', 'type': 'INVESTS', 'tail': '€10 million'}, {'head': '€10 million', 'type': 'IN ROUND', 'tail': 'Series A'}], [{'head': 'Gravitee.io', 'type': 'RECEIVES', 'tail': '€9.3 million'}, {'head': 'AlbionVC', 'type': 'INVESTS', 'tail': '€9.3 million'}, {'head': 'Oxx', 'type': 'INVESTS', 'tail': '€9.3 million'}], [{'head': 'Masterplan.com', 'type': 'RECEIVES', 'tail': '€13 million'}, {'head': 'existing investors', 'type': 'INVESTS', 'tail': '€13 million'}], [{'head': 'Blacklane', 'type': 'RECEIVES', 'tail': 'nine-figure Euro range'}, {'head': 'Recruit Holdings Co.', 'type': 'INVESTS', 'tail': 'nine-figure Euro range'}], [{'head': 'Hedera-22', 'type': 'RECEIVES', 'tail': 'more than €1 million'}, {'head': 'Globachem', 'type': 'INVESTS', 'tail': 'more than €1 million'}], [{'head': 'Skypicker', 'type': 'RECEIVES', 'tail': '$500K'}, {'head': 'Touzimsky Airlines', 'type': 'INVESTS', 'tail': '$500K'}, {'head': 'Skypicker.com', 'type': 'ACQUIRES', 'tail': 'WhichAirline.com'}, {'head': '$500K', 'type': 'IN ROUND', 'tail': 'seed funding'}], [{'head': 'Flexciton', 'type': 'RECEIVES', 'tail': '€2.8 million'}, {'head': 'Backed VC', 'type': 'INVESTS', 'tail': '€2.8 million'}, {'head': 'JOIN Capital', 'type': 'INVESTS', 'tail': '€2.8 million'}, {'head': 'Entrepreneur First', 'type': 'INVESTS', 'tail': '€2.8 million'}], [{'head': 'FinTech Collective', 'type': 'INVESTS', 'tail': '€3 million'}, {'head': 'Surplus Invest', 'type': 'INVESTS', 'tail': '€3 million'}, {'head': 'Talis Capital', 'type': 'INVESTS', 'tail': '€14 million'}, {'head': 'HV Holtzbrinck Ventures', 'type': 'INVESTS', 'tail': '€14 million'}, {'head': 'mp; Rahul M', 'type': 'INVESTS', 'tail': '€14 million'}, {'head': 'and Mato P', 'type': 'INVESTS', 'tail': '€14 million'}, {'head': 'IMMO', 'type': 'RECEIVES', 'tail': '€3 million'}, {'head': 'IMMO', 'type': 'RECEIVES', 'tail': '€14 million'}, {'head': 'Tom Stafford', 'type': 'INVESTS', 'tail': '€14 million'}, {'head': '€3 million', 'type': 'IN ROUND', 'tail': 'Series A'}, {'head': '€14 million', 'type': 'IN ROUND', 'tail': 'Series A'}], [{'head': 'Pigment', 'type': 'RECEIVES', 'tail': '€63.7 million'}, {'head': 'Greenoaks', 'type': 'INVESTS', 'tail': '€63.7 million'}, {'head': '€63.7 million', 'type': 'IN ROUND', 'tail': 'Series B'}], [{'head': 'EBRB', 'type': 'INVESTS', 'tail': '€2.7 million'}, {'head': 'VentureFriends', 'type': 'INVESTS', 'tail': '€2.7 million'}, {'head': 'Christian Faes', 'type': 'INVESTS', 'tail': '€2.7 million'}, {'head': 'Plum', 'type': 'RECEIVES', 'tail': '€2.7 million'}], [{'head': 'Cambridge Touch Technologies', 'type': 'RECEIVES', 'tail': '€9 million'}, {'head': 'Puhua Capital', 'type': 'INVESTS', 'tail': '€9 million'}, {'head': 'Japanese Kureha Corporation', 'type': 'INVESTS', 'tail': '€9 million'}, {'head': 'Futaba Corporation', 'type': 'INVESTS', 'tail': '€9 million'}, {'head': 'existing investors', 'type': 'INVESTS', 'tail': '€9 million'}, {'head': 'Parkwalk', 'type': 'INVESTS', 'tail': '€9 million'}, {'head': 'Downing Ventures', 'type': 'INVESTS', 'tail': '€9 million'}, {'head': 'CM Ventures', 'type': 'INVESTS', 'tail': '€9 million'}, {'head': 'Amadeus Capital Partners', 'type': 'INVESTS', 'tail': '€9 million'}, {'head': '€9 million', 'type': 'IN ROUND', 'tail': 'Series B'}], [{'head': 'Filo', 'type': 'RECEIVES', 'tail': '€2.5 million'}], [{'head': 'Mogees', 'type': 'RECEIVES', 'tail': '$1.1 million'}, {'head': 'LSG Ventures', 'type': 'INVESTS', 'tail': '$1.1 million'}, {'head': 'Elio Leoni Sceti', 'type': 'INVESTS', 'tail': '$1.1 million'}, {'head': 'Haim Perry', 'type': 'INVESTS', 'tail': '$1.1 million'}, {'head': 'Eric Nicoli CBE', 'type': 'INVESTS', 'tail': '$1.1 million'}, {'head': 'The Tussauds Group Ltd', 'type': 'INVESTS', 'tail': '$1.1 million'}, {'head': 'Vue Entertainment', 'type': 'INVESTS', 'tail': '$1.1 million'}], [{'head': 'arive', 'type': 'RECEIVES', 'tail': '€6 million'}, {'head': '468 Capital', 'type': 'INVESTS', 'tail': '€6 million'}, {'head': 'La Famiglia VC', 'type': 'INVESTS', 'tail': '€6 million'}, {'head': 'Balderton Capital', 'type': 'INVESTS', 'tail': '€6 million'}, {'head': '€6 million', 'type': 'IN ROUND', 'tail': 'seed funding'}], [{'head': 'Convelio', 'type': 'RECEIVES', 'tail': '€30 million'}, {'head': 'Forestay', 'type': 'INVESTS', 'tail': '€30 million'}, {'head': 'Mundi Ventures', 'type': 'INVESTS', 'tail': '€30 million'}, {'head': 'The European Investment Fund', 'type': 'INVESTS', 'tail': '€30 million'}, {'head': 'Acton Capital', 'type': 'INVESTS', 'tail': '€30 million'}, {'head': 'Global Founders Capital', 'type': 'INVESTS', 'tail': '€30 million'}], [{'head': 'Galventa', 'type': 'RECEIVES', 'tail': '€696K'}, {'head': 'Gen Ilac', 'type': 'INVESTS', 'tail': '€696K'}, {'head': '€696K', 'type': 'IN ROUND', 'tail': 'seed investment'}], [{'head': 'Nord Security', 'type': 'RECEIVES', 'tail': '€91.6 million'}, {'head': 'Novator Ventures', 'type': 'INVESTS', 'tail': '€91.6 million'}, {'head': 'Burda Principal Investments', 'type': 'INVESTS', 'tail': '€91.6 million'}, {'head': 'General Catalyst', 'type': 'INVESTS', 'tail': '€91.6 million'}, {'head': 'Founders', 'type': 'INVESTS', 'tail': '€91.6 million'}, {'head': 'angel investors', 'type': 'INVESTS', 'tail': '€91.6 million'}, {'head': 'Ilkka Paananen', 'type': 'INVESTS', 'tail': '€91.6 million'}, {'head': 'Miki Kuusi', 'type': 'INVESTS', 'tail': '€91.6 million'}, {'head': 'Matt Mullenweg', 'type': 'INVESTS', 'tail': '€91.6 million'}], [{'head': 'Teooh', 'type': 'RECEIVES', 'tail': '€4 million'}, {'head': 'Spark Capital', 'type': 'INVESTS', 'tail': '€4 million'}, {'head': 'General Catalyst', 'type': 'INVESTS', 'tail': '€4 million'}], [{'head': 'Flow Neuroscience', 'type': 'RECEIVES', 'tail': 'over €7.9 million'}, {'head': 'Khosla Ventures', 'type': 'INVESTS', 'tail': 'over €7.9 million'}, {'head': 'CSS group', 'type': 'INVESTS', 'tail': 'over €7.9 million'}, {'head': 'over €7.9 million', 'type': 'IN ROUND', 'tail': 'Series A'}], [{'head': 'Betterspace', 'type': 'RECEIVES', 'tail': '€3 million'}, {'head': 'Statkraft Ventures', 'type': 'INVESTS', 'tail': '€3 million'}, {'head': 'InnoEnergy', 'type': 'INVESTS', 'tail': '€3 million'}, {'head': '€3 million', 'type': 'IN ROUND', 'tail': 'Series A'}], [{'head': 'Resourcify', 'type': 'RECEIVES', 'tail': '€3 million'}, {'head': 'Speedinvest', 'type': 'INVESTS', 'tail': '€3 million'}, {'head': 'founders from Schüttflix', 'type': 'INVESTS', 'tail': '€3 million'}, {'head': 'Sennder', 'type': 'INVESTS', 'tail': '€3 million'}, {'head': 'existing investors', 'type': 'INVESTS', 'tail': '€3 million'}, {'head': 'Innovationsstarter Fond Hamburg', 'type': 'INVESTS', 'tail': '€3 million'}], [{'head': 'AgroSustain', 'type': 'RECEIVES', 'tail': '€1 million'}, {'head': 'private investors', 'type': 'INVESTS', 'tail': '€1 million'}, {'head': 'Venture Kick', 'type': 'INVESTS', 'tail': '€1 million'}, {'head': 'Canton of Vaud', 'type': 'INVESTS', 'tail': '€1 million'}, {'head': 'family offices', 'type': 'INVESTS', 'tail': '€1 million'}, {'head': '€1 million', 'type': 'IN ROUND', 'tail': 'seed investment round'}], [{'head': 'Feedbackly', 'type': 'RECEIVES', 'tail': '€500K'}, {'head': 'East Wings', 'type': 'INVESTS', 'tail': '€500K'}, {'head': 'Birch Venture', 'type': 'INVESTS', 'tail': '€500K'}], [{'head': 'Back Market', 'type': 'RECEIVES', 'tail': '€41 million'}, {'head': 'Groupe Arnault', 'type': 'INVESTS', 'tail': '€41 million'}, {'head': 'Eurazeo', 'type': 'INVESTS', 'tail': '€41 million'}, {'head': 'Aglaé Ventures', 'type': 'INVESTS', 'tail': '€41 million'}, {'head': 'Daphni', 'type': 'INVESTS', 'tail': '€41 million'}, {'head': 'Back Market', 'type': 'RECEIVES', 'tail': '€7 million'}, {'head': 'Daphni', 'type': 'INVESTS', 'tail': '€7 million'}, {'head': 'Aglaé Ventures', 'type': 'INVESTS', 'tail': '€7 million'}, {'head': '€41 million', 'type': 'IN ROUND', 'tail': 'second round of funding'}], [{'head': 'Universal Avenue', 'type': 'ACQUIRES', 'tail': 'Varvet'}, {'head': 'Universal Avenue', 'type': 'RECEIVES', 'tail': '€5.3 million'}, {'head': 'MOOR Capital', 'type': 'INVESTS', 'tail': '€5.3 million'}, {'head': '€5.3 million', 'type': 'IN ROUND', 'tail': 'Series B'}], [{'head': 'PrimaryBid', 'type': 'RECEIVES', 'tail': '€8 million'}, {'head': 'Pentech', 'type': 'INVESTS', 'tail': '€8 million'}, {'head': 'Outward VC', 'type': 'INVESTS', 'tail': '€8 million'}, {'head': 'new and existing investors', 'type': 'INVESTS', 'tail': '€8 million'}], [{'head': 'Nordic API Gateway', 'type': 'RECEIVES', 'tail': '€4.6 million'}, {'head': 'Danske Bank', 'type': 'INVESTS', 'tail': '€4.6 million'}, {'head': 'DNB', 'type': 'INVESTS', 'tail': '€4.6 million'}, {'head': '€4.6 million', 'type': 'IN ROUND', 'tail': 'internal funding round'}], [{'head': 'ICONIQ Capital', 'type': 'INVESTS', 'tail': '$130 million'}, {'head': 'Wolt', 'type': 'RECEIVES', 'tail': '$130 million'}, {'head': 'Wolt', 'type': 'RECEIVES', 'tail': '$30 million'}, {'head': '83North', 'type': 'INVESTS', 'tail': '$30 million'}, {'head': 'Highland Europe', 'type': 'INVESTS', 'tail': '$30 million'}, {'head': 'EQT Ventures', 'type': 'INVESTS', 'tail': '$30 million'}, {'head': 'Lifeline Ventures', 'type': 'INVESTS', 'tail': '$30 million'}, {'head': '83North', 'type': 'INVESTS', 'tail': '$130 million'}, {'head': 'Highland Europe', 'type': 'INVESTS', 'tail': '$130 million'}, {'head': 'Lifeline Ventures', 'type': 'INVESTS', 'tail': '$130 million'}, {'head': 'EQT Ventures', 'type': 'INVESTS', 'tail': '$130 million'}, {'head': '$130 million', 'type': 'IN ROUND', 'tail': 'Series C'}, {'head': '$30 million', 'type': 'IN ROUND', 'tail': 'Series B'}, {'head': 'Wolt', 'type': 'RECEIVES', 'tail': '$160 million'}, {'head': '$30 million', 'type': '', 'tail': 'January 2018'}], [{'head': 'Medtep', 'type': 'RECEIVES', 'tail': '$2 million'}, {'head': 'Stella Maris Partners', 'type': 'INVESTS', 'tail': '$2 million'}, {'head': 'American and Spanish investors', 'type': 'INVESTS', 'tail': '$2 million'}, {'head': 'business angels', 'type': 'INVESTS', 'tail': '$2 million'}, {'head': '$2 million', 'type': 'IN ROUND', 'tail': 'seed funding'}], [{'head': 'Thymia', 'type': 'RECEIVES', 'tail': '€920K'}, {'head': 'Kodori AG', 'type': 'INVESTS', 'tail': '€920K'}, {'head': 'Calm/Storm', 'type': 'INVESTS', 'tail': '€920K'}, {'head': 'Form Ventures', 'type': 'INVESTS', 'tail': '€920K'}, {'head': 'Entrepreneur First', 'type': 'INVESTS', 'tail': '€920K'}, {'head': '€920K', 'type': 'IN ROUND', 'tail': 'pre-seed round'}], [{'head': 'Temasek', 'type': 'INVESTS', 'tail': '$110 million'}, {'head': 'IDG Capital Partners', 'type': 'INVESTS', 'tail': '$110 million'}, {'head': 'Eurazeo', 'type': 'INVESTS', 'tail': '$110 million'}, {'head': 'other investors', 'type': 'INVESTS', 'tail': '$110 million'}, {'head': 'Farfetch', 'type': 'RECEIVES', 'tail': '$110 million'}], [{'head': 'Zapnito', 'type': 'RECEIVES', 'tail': '€3.8 million'}, {'head': 'Octopus Ventures', 'type': 'INVESTS', 'tail': '€3.8 million'}, {'head': '€3.8 million', 'type': 'IN ROUND', 'tail': 'Series A'}], [{'head': 'UnderCovers', 'type': 'RECEIVES', 'tail': 'six-digit investment'}, {'head': 'business angels', 'type': 'INVESTS', 'tail': 'six-digit investment'}], [{'head': 'HURR', 'type': 'RECEIVES', 'tail': '€4.7 million'}, {'head': 'Octopus Ventures', 'type': 'INVESTS', 'tail': '€4.7 million'}, {'head': 'D4 Ventures and Ascension', 'type': 'INVESTS', 'tail': '€4.7 million'}], [{'head': 'WarOnCancer', 'type': 'RECEIVES', 'tail': '€840k'}, {'head': 'ive Karl-Johan Per', 'type': 'INVESTS', 'tail': '€840k'}, {'head': 'der Stefan K', 'type': 'INVESTS', 'tail': '€840k'}, {'head': 'and Daniel Pil', 'type': 'INVESTS', 'tail': '€840k'}], [{'head': 'Remato', 'type': 'RECEIVES', 'tail': '€1.4 million'}, {'head': 'Passion Capital', 'type': 'INVESTS', 'tail': '€1.4 million'}, {'head': 'founders and early team members of Pipedrive', 'type': 'INVESTS', 'tail': '€1.4 million'}, {'head': 'Superangel', 'type': 'INVESTS', 'tail': '€1.4 million'}, {'head': 'Lemonade Stand', 'type': 'INVESTS', 'tail': '€1.4 million'}, {'head': 'Spring Capital', 'type': 'INVESTS', 'tail': '€1.4 million'}, {'head': 'Kaamos Group', 'type': 'INVESTS', 'tail': '€1.4 million'}, {'head': '€1.4 million', 'type': 'IN ROUND', 'tail': 'seed investment round'}, {'head': 'Remato', 'type': '', 'tail': '€2.1 million'}], [{'head': 'wikifolio', 'type': 'RECEIVES', 'tail': '6 million Euro'}, {'head': 'hs. wikif', 'type': 'RECEIVES', 'tail': '6 million Euro'}, {'head': 'ugh wikif', 'type': 'RECEIVES', 'tail': '6 million Euro'}, {'head': 'Speedinvest', 'type': 'INVESTS', 'tail': '6 million Euro'}, {'head': 'VHB Ventures', 'type': 'INVESTS', 'tail': '6 million Euro'}, {'head': 'Lang &amp; Sch', 'type': 'INVESTS', 'tail': '6 million Euro'}, {'head': 'rz, Michael Grabner M', 'type': 'INVESTS', 'tail': '6 million Euro'}, {'head': 'ia, Michael Altric', 'type': 'INVESTS', 'tail': '6 million Euro'}, {'head': 'and Speedin', 'type': 'INVESTS', 'tail': '6 million Euro'}], [{'head': 'MyTutor', 'type': 'RECEIVES', 'tail': '€4.4 million'}, {'head': 'Mobeus Equity Partners', 'type': 'INVESTS', 'tail': '€4.4 million'}], [{'head': 'Blickfeld', 'type': 'RECEIVES', 'tail': '€3.6 million'}, {'head': 'Fluxunit', 'type': 'INVESTS', 'tail': '€3.6 million'}, {'head': 'OSRAM Ventures', 'type': 'INVESTS', 'tail': '€3.6 million'}, {'head': 'High-Tech Gründerfonds', 'type': 'INVESTS', 'tail': '€3.6 million'}, {'head': 'Tengelmann Ventures', 'type': 'INVESTS', 'tail': '€3.6 million'}, {'head': 'Unternehmertum VC', 'type': 'INVESTS', 'tail': '€3.6 million'}, {'head': '€3.6 million', 'type': 'IN ROUND', 'tail': 'seed funding'}], [{'head': 'Screenful', 'type': 'RECEIVES', 'tail': '€305,000'}, {'head': 'Gorilla Capital', 'type': 'INVESTS', 'tail': '€305,000'}, {'head': '14 angel investors from FiBAN', 'type': 'INVESTS', 'tail': '€305,000'}, {'head': 'Nordic Angel Program', 'type': 'INVESTS', 'tail': '€305,000'}, {'head': '€305,000', 'type': 'IN ROUND', 'tail': 'seed funding'}], [{'head': 'Medloop', 'type': 'RECEIVES', 'tail': '€6 million'}, {'head': 'Kamet Ventures', 'type': 'INVESTS', 'tail': '€6 million'}, {'head': 'AXA', 'type': 'INVESTS', 'tail': '€6 million'}], [{'head': 'Cloudsmith', 'type': 'RECEIVES', 'tail': '€2.4 million'}, {'head': 'Frontline Ventures', 'type': 'INVESTS', 'tail': '€2.4 million'}, {'head': 'Techstart Ventures', 'type': 'INVESTS', 'tail': '€2.4 million'}, {'head': 'MMC Ventures', 'type': 'INVESTS', 'tail': '€2.4 million'}, {'head': 'Cloudsmith’s', 'type': 'RECEIVES', 'tail': '€2.4 million'}, {'head': '€2.4 million', 'type': 'IN ROUND', 'tail': 'seed round'}], [{'head': 'Kennet Partners', 'type': 'INVESTS', 'tail': '€16 million'}, {'head': 'Next Performance', 'type': 'RECEIVES', 'tail': '€16 million'}], [{'head': 'Meditopia', 'type': 'RECEIVES', 'tail': '€13.1 million'}, {'head': 'Creandum', 'type': 'INVESTS', 'tail': '€13.1 million'}, {'head': 'Highland Europe', 'type': 'INVESTS', 'tail': '€13.1 million'}, {'head': '€13.1 million', 'type': 'IN ROUND', 'tail': 'Series A'}], [{'head': 'Amberscript', 'type': 'RECEIVES', 'tail': '€8.65 million'}, {'head': 'Endeit Capital', 'type': 'INVESTS', 'tail': '€8.65 million'}, {'head': '€8.65 million', 'type': 'IN ROUND', 'tail': 'Series A'}], [{'head': 'Axel Springer', 'type': 'INVESTS', 'tail': '€13 million'}, {'head': 'Bayern Kapital', 'type': 'INVESTS', 'tail': '€13 million'}, {'head': 'MairDumont Ventures', 'type': 'INVESTS', 'tail': '€13 million'}, {'head': 'Fineway', 'type': 'RECEIVES', 'tail': '€13 million'}, {'head': '€13 million', 'type': 'IN ROUND', 'tail': 'Series A'}, {'head': 'Fineway', 'type': 'RECEIVED TOTAL', 'tail': '€13 million'}, {'head': 'Fineway', 'type': 'RECEIVES', 'tail': '€6 million'}], [{'head': 'MortgageGym', 'type': 'RECEIVES', 'tail': '£1.3 million'}, {'head': 'Gaby Salem', 'type': 'INVESTS', 'tail': '£1.3 million'}, {'head': 'China Pacific Capital', 'type': 'INVESTS', 'tail': '£1.3 million'}, {'head': 'Trifecta Capital', 'type': 'INVESTS', 'tail': '£1.3 million'}, {'head': '£2 million', 'type': 'IN ROUND', 'tail': 'seed funding round'}, {'head': 'MortgageGym', 'type': 'RECEIVES', 'tail': '£2 million'}], [{'head': 'Stage11', 'type': 'RECEIVES', 'tail': '€5 million'}, {'head': 'Otium Capital', 'type': 'INVESTS', 'tail': '€5 million'}, {'head': '€5 million', 'type': 'IN ROUND', 'tail': 'seed round'}], [{'head': 'My Online Therapy', 'type': 'RECEIVES', 'tail': '£4.2 million'}, {'head': 'Lighthouse Investment Group', 'type': 'INVESTS', 'tail': '£4.2 million'}], [{'head': '4.5.6 Skin', 'type': 'RECEIVES', 'tail': '€700K'}, {'head': 'Be Angels', 'type': 'INVESTS', 'tail': '€700K'}, {'head': 'French entrepreneurs', 'type': 'INVESTS', 'tail': '€700K'}, {'head': '€700K', 'type': 'IN ROUND', 'tail': 'seed funding'}], [{'head': 'Teemyco', 'type': 'RECEIVES', 'tail': '€845K'}, {'head': 'Luminar Ventures', 'type': 'INVESTS', 'tail': '€845K'}, {'head': 'Antler', 'type': 'INVESTS', 'tail': '€845K'}, {'head': 'Gazella', 'type': 'INVESTS', 'tail': '€845K'}, {'head': 'list of prominent angel investors', 'type': 'INVESTS', 'tail': '€845K'}, {'head': '€845K', 'type': 'IN ROUND', 'tail': 'seed funding round'}], [{'head': 'Aviva', 'type': 'INVESTS', 'tail': '€5.8 million'}, {'head': 'Sesame Bankhall Group', 'type': 'INVESTS', 'tail': '€5.8 million'}, {'head': 'Acre', 'type': 'RECEIVES', 'tail': '€5.8 million'}], [{'head': 'The Family', 'type': 'RECEIVES', 'tail': '€15 million'}, {'head': 'LGT Capital Partners', 'type': 'INVESTS', 'tail': '€15 million'}, {'head': 'HummingBird Venture', 'type': 'INVESTS', 'tail': '€15 million'}, {'head': 'Project A', 'type': 'INVESTS', 'tail': '€15 million'}, {'head': 'eVentures', 'type': 'INVESTS', 'tail': '€15 million'}, {'head': 'and others', 'type': 'INVESTS', 'tail': '€15 million'}], [{'head': 'N26', 'type': 'RECEIVES', 'tail': '$160 million'}, {'head': 'Allianz X', 'type': 'INVESTS', 'tail': '$160 million'}, {'head': 'Tencent', 'type': 'INVESTS', 'tail': '$160 million'}, {'head': '$160 million', 'type': 'IN ROUND', 'tail': 'Series C'}, {'head': 'N26', 'type': '', 'tail': '$215 million'}], [{'head': 'smol', 'type': 'RECEIVES', 'tail': '€27.9 million'}, {'head': 'Eight Roads Ventures', 'type': 'INVESTS', 'tail': '€27.9 million'}, {'head': 'Google Ventures', 'type': 'INVESTS', 'tail': '€27.9 million'}, {'head': 'Latitude', 'type': 'INVESTS', 'tail': '€27.9 million'}, {'head': 'Balderton', 'type': 'INVESTS', 'tail': '€27.9 million'}, {'head': 'Jam Jar', 'type': 'INVESTS', 'tail': '€27.9 million'}, {'head': '€27.9 million', 'type': 'IN ROUND', 'tail': 'Series B'}], [{'head': 'Rainbow', 'type': 'RECEIVES', 'tail': '€2 million'}, {'head': 'Senseii Ventures', 'type': 'INVESTS', 'tail': '€2 million'}, {'head': 'Artemis Growth', 'type': 'INVESTS', 'tail': '€2 million'}], [{'head': 'Atomico Ventures', 'type': 'INVESTS', 'tail': '$ 500,000'}, {'head': 'Fashiolista', 'type': 'RECEIVES', 'tail': '$ 500,000'}], [{'head': 'UpCloud', 'type': 'RECEIVES', 'tail': '€4 million'}, {'head': 'Inventure', 'type': 'INVESTS', 'tail': '€4 million'}], [{'head': 'Cleo', 'type': 'RECEIVES', 'tail': '$10 million'}, {'head': 'Balderton Capital', 'type': 'INVESTS', 'tail': '$10 million'}, {'head': 'LocalGlobe', 'type': 'INVESTS', 'tail': '$10 million'}, {'head': 'Niklas Zennstrom', 'type': 'INVESTS', 'tail': '$10 million'}, {'head': 'Taavet Hinrikus', 'type': 'INVESTS', 'tail': '$10 million'}, {'head': 'Cleo', 'type': '', 'tail': '$15 million'}], [{'head': 'Youmiam', 'type': 'RECEIVES', 'tail': '€1.1 million'}, {'head': 'Maslow Capital Partners', 'type': 'INVESTS', 'tail': '€1.1 million'}, {'head': 'M6', 'type': 'INVESTS', 'tail': '€1.1 million'}], [{'head': 'GetYourGuide', 'type': 'RECEIVES', 'tail': '€114 million'}, {'head': 'Searchlight Capital', 'type': 'INVESTS', 'tail': '€114 million'}, {'head': 'SoftBank Vision Fund', 'type': 'INVESTS', 'tail': '€114 million'}, {'head': 'KKR', 'type': 'INVESTS', 'tail': '€114 million'}, {'head': 'Battery Ventures', 'type': 'INVESTS', 'tail': '€114 million'}, {'head': 'Highland Europe', 'type': 'INVESTS', 'tail': '€114 million'}, {'head': 'Spark Capital', 'type': 'INVESTS', 'tail': '€114 million'}, {'head': 'Lakestar', 'type': 'INVESTS', 'tail': '€114 million'}, {'head': 'Heartcore Capital', 'type': 'INVESTS', 'tail': '€114 million'}, {'head': 'NGP Capital', 'type': 'INVESTS', 'tail': '€114 million'}, {'head': 'LionTree', 'type': 'INVESTS', 'tail': '€114 million'}, {'head': 'company’s own founding team and others', 'type': 'INVESTS', 'tail': '€114 million'}], [{'head': 'Mentessa', 'type': 'RECEIVES', 'tail': '€1 million'}, {'head': 'Eleven Ventures', 'type': 'INVESTS', 'tail': '€1 million'}, {'head': 'business angels', 'type': 'INVESTS', 'tail': '€1 million'}], [{'head': 'expertlead', 'type': 'RECEIVES', 'tail': '€9.5 million'}, {'head': 'Acton Capital Partners', 'type': 'INVESTS', 'tail': '€9.5 million'}, {'head': 'SEEK', 'type': 'INVESTS', 'tail': '€9.5 million'}, {'head': 'Rocket Internet', 'type': 'INVESTS', 'tail': '€9.5 million'}, {'head': 'Kreos Capital', 'type': 'INVESTS', 'tail': '€9.5 million'}], [{'head': 'OncoOne', 'type': 'RECEIVES', 'tail': '€13 million'}, {'head': 'the Austrian Research Promotion Agency', 'type': 'INVESTS', 'tail': '€13 million'}, {'head': 'the Austria Wirtschaftsservice Gesellschaft', 'type': 'INVESTS', 'tail': '€13 million'}, {'head': 'two family offices', 'type': 'INVESTS', 'tail': '€13 million'}, {'head': '€13 million', 'type': 'IN ROUND', 'tail': 'Series A'}], [{'head': 'Mecuris', 'type': 'RECEIVES', 'tail': '€3.6 million'}, {'head': 'Bayern Kapital', 'type': 'INVESTS', 'tail': '€3.6 million'}, {'head': 'Mulcan International Investments', 'type': 'INVESTS', 'tail': '€3.6 million'}, {'head': 'Vesalius Biocapital', 'type': 'INVESTS', 'tail': '€3.6 million'}, {'head': 'High-Tech Gründerfonds', 'type': 'INVESTS', 'tail': '€3.6 million'}, {'head': '€3.6 million', 'type': 'IN ROUND', 'tail': 'Series A'}], [{'head': 'knokcare', 'type': 'RECEIVES', 'tail': '€1.7 million'}, {'head': 'Mustard Seed MAZE', 'type': 'INVESTS', 'tail': '€1.7 million'}, {'head': 'Social Innovation Fund', 'type': 'INVESTS', 'tail': '€1.7 million'}, {'head': 'Fascinating Folio of Porto', 'type': 'INVESTS', 'tail': '€1.7 million'}, {'head': 'Ryse Asset Management', 'type': 'INVESTS', 'tail': '€1.7 million'}, {'head': '€1.7 million', 'type': 'IN ROUND', 'tail': 'seed funding'}], [{'head': 'Student Pop', 'type': 'RECEIVES', 'tail': '€3 million'}, {'head': 'Impact Partenaires', 'type': 'INVESTS', 'tail': '€3 million'}, {'head': 'Educapital', 'type': 'INVESTS', 'tail': '€3 million'}], [{'head': 'Industrial Phycology', 'type': 'RECEIVES', 'tail': '€813k'}, {'head': 'by Me', 'type': 'INVESTS', 'tail': '€813k'}, {'head': 'by Park', 'type': 'INVESTS', 'tail': '€813k'}], [{'head': 'MeetFrank', 'type': 'RECEIVES', 'tail': '€1 million'}, {'head': 'Hummingbird VC', 'type': 'INVESTS', 'tail': '€1 million'}, {'head': 'Karma VC', 'type': 'INVESTS', 'tail': '€1 million'}, {'head': 'Change Ventures', 'type': 'INVESTS', 'tail': '€1 million'}], [{'head': 'is BioN', 'type': 'RECEIVES', 'tail': 'ved €9.4 mil'}], [{'head': 'FieldSense', 'type': 'RECEIVES', 'tail': '€2.9 million'}, {'head': 'Danish Agro', 'type': 'INVESTS', 'tail': '€2.9 million'}, {'head': 'Rockstart', 'type': 'INVESTS', 'tail': '€2.9 million'}, {'head': 'Pajbjergfonden', 'type': 'INVESTS', 'tail': '€2.9 million'}], [{'head': 'Winnow', 'type': 'RECEIVES', 'tail': '$3.3 million'}, {'head': 'Mustard Seed', 'type': 'INVESTS', 'tail': '$3.3 million'}, {'head': 'D-Ax', 'type': 'INVESTS', 'tail': '$3.3 million'}, {'head': '$3.3 million', 'type': 'IN ROUND', 'tail': 'Series A'}], [{'head': 'Hokodo', 'type': 'RECEIVES', 'tail': '€2 million'}, {'head': 'European Commission', 'type': 'INVESTS', 'tail': '€2 million'}], [{'head': 'Clear Flight Solutions', 'type': 'RECEIVES', 'tail': '€2.6 million'}, {'head': 'AERIUM Analytics', 'type': 'INVESTS', 'tail': '€2.6 million'}, {'head': 'Cottonwood Euro Technology Fund', 'type': 'INVESTS', 'tail': '€2.6 million'}, {'head': '€2.6 million', 'type': 'IN ROUND', 'tail': 'Series B'}, {'head': '€6 million', 'type': 'IN ROUND', 'tail': 'Series B'}, {'head': 'Clear Flight Solutions', 'type': '', 'tail': '€6 million'}], [{'head': 'BOOKR Kids', 'type': 'RECEIVES', 'tail': '€2 million'}, {'head': 'Bonitas', 'type': 'INVESTS', 'tail': '€2 million'}], [{'head': 'Include', 'type': 'RECEIVES', 'tail': '€1 million'}, {'head': 'crowdfunding campaign', 'type': 'INVESTS', 'tail': '€1 million'}], [{'head': 'Stravito', 'type': 'RECEIVES', 'tail': '€5.6 million'}, {'head': 'henQ', 'type': 'INVESTS', 'tail': '€5.6 million'}, {'head': 'Inventure', 'type': 'INVESTS', 'tail': '€5.6 million'}, {'head': 'Creades', 'type': 'INVESTS', 'tail': '€5.6 million'}, {'head': '€5.6 million', 'type': 'IN ROUND', 'tail': 'seed round'}], [{'head': 'Wingcopter', 'type': 'RECEIVES', 'tail': 'seven-digit'}, {'head': 'Corecam Capital Partners', 'type': 'INVESTS', 'tail': 'seven-digit'}], [{'head': 'ADEX', 'type': 'RECEIVES', 'tail': '€ 2.8 million'}, {'head': 'Capnamic Ventures', 'type': 'INVESTS', 'tail': '€ 2.8 million'}, {'head': 'Iris Capital', 'type': 'INVESTS', 'tail': '€ 2.8 million'}, {'head': '€ 2.8 million', 'type': 'IN ROUND', 'tail': 'series A'}], [{'head': 'Payflow', 'type': 'RECEIVES', 'tail': '€8 million'}, {'head': 'Entrepreneurs Fund', 'type': 'INVESTS', 'tail': '€8 million'}, {'head': 'Force Over Mass Capital', 'type': 'INVESTS', 'tail': '€8 million'}, {'head': 'Y Combinator', 'type': 'INVESTS', 'tail': '€8 million'}, {'head': 'Rebel Fund', 'type': 'INVESTS', 'tail': '€8 million'}, {'head': 'Seaya Ventures', 'type': 'INVESTS', 'tail': '€8 million'}, {'head': 'Cathay Innovation', 'type': 'INVESTS', 'tail': '€8 million'}], [{'head': 'Arbolus', 'type': 'RECEIVES', 'tail': '€14 million'}, {'head': 'Element Ventures', 'type': 'INVESTS', 'tail': '€14 million'}, {'head': 'Fuel Ventures', 'type': 'INVESTS', 'tail': '€14 million'}], [{'head': 'EQT Ventures fund', 'type': 'INVESTS', 'tail': '€11 million'}, {'head': 'Peanut', 'type': 'RECEIVES', 'tail': '€11 million'}, {'head': '€11 million', 'type': 'IN ROUND', 'tail': 'Series A'}, {'head': 'Peanut', 'type': '', 'tail': '€20.1 million'}], [{'head': 'insureQ', 'type': 'RECEIVES', 'tail': '€5 million'}, {'head': 'Nauta Capital', 'type': 'INVESTS', 'tail': '€5 million'}, {'head': 'Flash Ventures', 'type': 'INVESTS', 'tail': '€5 million'}, {'head': 'GFC', 'type': 'INVESTS', 'tail': '€5 million'}, {'head': '€5 million', 'type': 'IN ROUND', 'tail': 'seed round'}], [{'head': 'Sound Particles', 'type': 'RECEIVES', 'tail': '€400K'}, {'head': 'Indico Capital Partners', 'type': 'INVESTS', 'tail': '€400K'}, {'head': 'REDAngels', 'type': 'INVESTS', 'tail': '€400K'}, {'head': '€400K', 'type': 'IN ROUND', 'tail': 'pre-seed investment'}], [{'head': 'Fraugster', 'type': 'RECEIVES', 'tail': '€12.2 million'}, {'head': 'CommerzVentures', 'type': 'INVESTS', 'tail': '€12.2 million'}, {'head': 'Earlybird', 'type': 'INVESTS', 'tail': '€12.2 million'}, {'head': 'Speedinvest', 'type': 'INVESTS', 'tail': '€12.2 million'}, {'head': 'Seedcamp', 'type': 'INVESTS', 'tail': '€12.2 million'}, {'head': 'Rancilio Cube', 'type': 'INVESTS', 'tail': '€12.2 million'}, {'head': 'Munich Re / HSB Ventures', 'type': 'INVESTS', 'tail': '€12.2 million'}, {'head': '€12.2 million', 'type': 'IN ROUND', 'tail': 'Series B'}, {'head': 'Fraugster', 'type': '', 'tail': '€17 million'}], [{'head': 'peaq', 'type': 'RECEIVES', 'tail': '€2.5 million'}, {'head': 'Scherzer &amp; Co', 'type': 'INVESTS', 'tail': '€2.5 million'}, {'head': 'AG, Werner Geis', 'type': 'INVESTS', 'tail': '€2.5 million'}, {'head': 'well as Met', 'type': 'INVESTS', 'tail': '€2.5 million'}], [{'head': 'adjust', 'type': 'RECEIVES', 'tail': '$7.6 Million'}, {'head': 'ACTIVE Venture Partners', 'type': 'INVESTS', 'tail': '$7.6 Million'}, {'head': 'Target Partners', 'type': 'INVESTS', 'tail': '$7.6 Million'}, {'head': 'Iris Capital', 'type': 'INVESTS', 'tail': '$7.6 Million'}, {'head': 'Capnamic Ventures', 'type': 'INVESTS', 'tail': '$7.6 Million'}, {'head': '$7.6 Million', 'type': 'IN ROUND', 'tail': 'Series C'}], [{'head': 'Trind VC', 'type': 'INVESTS', 'tail': '€2.5 million'}, {'head': 'Vendep Capital', 'type': 'INVESTS', 'tail': '€2.5 million'}, {'head': 'My Telescope', 'type': 'RECEIVES', 'tail': '€2.5 million'}], [{'head': 'Aervio', 'type': 'RECEIVES', 'tail': '€750k'}, {'head': 'TheVentureCity', 'type': 'INVESTS', 'tail': '€750k'}, {'head': 'Palladium Corporate Ventures', 'type': 'INVESTS', 'tail': '€750k'}], [{'head': 'Baillie Gifford', 'type': 'INVESTS', 'tail': '€ 90 million'}, {'head': 'Home24', 'type': 'RECEIVES', 'tail': '€ 90 million'}, {'head': 'Home24', 'type': 'RECEIVES', 'tail': '€ 30 million'}, {'head': 'Rocket Internet SE', 'type': 'INVESTS', 'tail': '€ 30 million'}], [{'head': 'Climedo', 'type': 'RECEIVES', 'tail': '€5 million'}, {'head': 'Nauta Capital', 'type': 'INVESTS', 'tail': '€5 million'}, {'head': 'Westtech Ventures', 'type': 'INVESTS', 'tail': '€5 million'}, {'head': 'Prof. Dr. Christian Wallwiener', 'type': 'INVESTS', 'tail': '€5 million'}], [{'head': 'Adaptive Simulations', 'type': 'RECEIVES', 'tail': '€2.4 million'}, {'head': 'Fairpoint Capital', 'type': 'INVESTS', 'tail': '€2.4 million'}, {'head': 'Industrifonden', 'type': 'INVESTS', 'tail': '€2.4 million'}], [{'head': 'TaxScouts', 'type': 'RECEIVES', 'tail': '€1.4 million'}, {'head': 'SpeedInvest', 'type': 'INVESTS', 'tail': '€1.4 million'}, {'head': 'Finch Capital', 'type': 'INVESTS', 'tail': '€1.4 million'}, {'head': 'Seedcamp', 'type': 'INVESTS', 'tail': '€1.4 million'}, {'head': 'TaxScouts', 'type': 'RECEIVES', 'tail': '€340k'}, {'head': '€340k', 'type': 'IN ROUND', 'tail': 'pre-seed round'}, {'head': '€340k', 'type': '', 'tail': 'last July'}], [{'head': 'DiaMonTech', 'type': 'RECEIVES', 'tail': '€7 million'}, {'head': 'Bioventure', 'type': 'INVESTS', 'tail': '€7 million'}, {'head': 'two family offices', 'type': 'INVESTS', 'tail': '€7 million'}, {'head': 'IBB Beteiligungsgesellschaft', 'type': 'INVESTS', 'tail': '€7 million'}, {'head': '€7 million', 'type': 'IN ROUND', 'tail': 'Series A'}], [{'head': 'Konvi', 'type': 'RECEIVES', 'tail': '€814k'}, {'head': 'APX', 'type': 'INVESTS', 'tail': '€814k'}], [{'head': 'CheckRecipient', 'type': 'RECEIVES', 'tail': '$2.7 million'}, {'head': 'Accel', 'type': 'INVESTS', 'tail': '$2.7 million'}, {'head': 'LocalGlobe', 'type': 'INVESTS', 'tail': '$2.7 million'}, {'head': 'Winton Ventures', 'type': 'INVESTS', 'tail': '$2.7 million'}, {'head': 'Amadeus Capital Partners', 'type': 'INVESTS', 'tail': '$2.7 million'}, {'head': 'Crane', 'type': 'INVESTS', 'tail': '$2.7 million'}], [{'head': 'Hootside', 'type': 'RECEIVES', 'tail': '€1.6 million'}, {'head': 'Finovam Gestion', 'type': 'INVESTS', 'tail': '€1.6 million'}, {'head': 'Nord France Amorquage', 'type': 'INVESTS', 'tail': '€1.6 million'}, {'head': 'Nord Capital Investissement', 'type': 'INVESTS', 'tail': '€1.6 million'}, {'head': 'Crédit Agricole Nord de France', 'type': 'INVESTS', 'tail': '€1.6 million'}, {'head': 'BNP Paribas', 'type': 'INVESTS', 'tail': '€1.6 million'}, {'head': 'Banque Populaire', 'type': 'INVESTS', 'tail': '€1.6 million'}, {'head': 'BPI France', 'type': 'INVESTS', 'tail': '€1.6 million'}], [{'head': 'Wonderbly', 'type': 'RECEIVES', 'tail': '$8.5 million'}, {'head': 'Ravensburger', 'type': 'INVESTS', 'tail': '$8.5 million'}, {'head': 'Google Ventures', 'type': 'INVESTS', 'tail': '$8.5 million'}, {'head': 'Project A', 'type': 'INVESTS', 'tail': '$8.5 million'}, {'head': 'Greycroft', 'type': 'INVESTS', 'tail': '$8.5 million'}, {'head': 'The Chernin Group', 'type': 'INVESTS', 'tail': '$8.5 million'}, {'head': 'Allen &amp', 'type': 'INVESTS', 'tail': '$8.5 million'}, {'head': '$8.5 million', 'type': 'IN ROUND', 'tail': 'Series B'}], [{'head': 'UNSEENLABS', 'type': 'RECEIVES', 'tail': '€20 million'}, {'head': '360 Capital', 'type': 'INVESTS', 'tail': '€20 million'}, {'head': 'Omnes', 'type': 'INVESTS', 'tail': '€20 million'}, {'head': 'Blue Oceans Partners', 'type': 'INVESTS', 'tail': '€20 million'}, {'head': 'Breizh Up', 'type': 'INVESTS', 'tail': '€20 million'}, {'head': 'Definvest', 'type': 'INVESTS', 'tail': '€20 million'}, {'head': 'Hemeria', 'type': 'INVESTS', 'tail': '€20 million'}, {'head': 'UNSEENLABS', 'type': 'RECEIVES', 'tail': '€7.5 million'}, {'head': '€7.5 million', 'type': '', 'tail': 'in 2018'}], [{'head': 'Lingoda', 'type': 'RECEIVES', 'tail': '€57 million'}, {'head': 'Summit Partners', 'type': 'INVESTS', 'tail': '€57 million'}, {'head': 'Conny Boersch', 'type': 'INVESTS', 'tail': '€57 million'}, {'head': 'Lingoda', 'type': 'RECEIVED TOTAL', 'tail': '€70 million'}, {'head': '€70 million', 'type': '', 'tail': 'since 2013'}], [{'head': 'SumUp', 'type': 'RECEIVES', 'tail': '€10 million'}, {'head': 'BBVA Ventures', 'type': 'INVESTS', 'tail': '€10 million'}, {'head': 'Groupon', 'type': 'INVESTS', 'tail': '€10 million'}, {'head': 'American Express', 'type': 'INVESTS', 'tail': '€10 million'}, {'head': 'other current investors', 'type': 'INVESTS', 'tail': '€10 million'}, {'head': 'SumUp', 'type': '', 'tail': '€50 million'}], [{'head': 'Virtway', 'type': 'RECEIVES', 'tail': '€4 million'}], [{'head': 'Event Inc', 'type': 'RECEIVES', 'tail': '7-sigit seed funding'}, {'head': 'business angels', 'type': 'INVESTS', 'tail': '7-sigit seed funding'}, {'head': '7-sigit seed funding', 'type': 'IN ROUND', 'tail': 'seed round'}], [{'head': 'Cowboy', 'type': 'RECEIVES', 'tail': '€71 million'}, {'head': 'Exor', 'type': 'INVESTS', 'tail': '€71 million'}, {'head': 'Siam Capital', 'type': 'INVESTS', 'tail': '€71 million'}, {'head': 'Tiger Global', 'type': 'INVESTS', 'tail': '€71 million'}, {'head': 'Index Ventures', 'type': 'INVESTS', 'tail': '€71 million'}, {'head': 'Eothen', 'type': 'INVESTS', 'tail': '€71 million'}, {'head': 'Isomer Opportunities Fund', 'type': 'INVESTS', 'tail': '€71 million'}, {'head': 'Future Positive Capital', 'type': 'INVESTS', 'tail': '€71 million'}, {'head': 'Triple Point Capital', 'type': 'INVESTS', 'tail': '€71 million'}, {'head': 'HCVC', 'type': 'INVESTS', 'tail': '€71 million'}], [{'head': 'and other European inves', 'type': 'INVESTS', 'tail': '€3.3 million'}, {'head': 'rom Seed', 'type': 'INVESTS', 'tail': '€3.3 million'}, {'head': 'mp; Eniac Vent', 'type': 'INVESTS', 'tail': '€3.3 million'}, {'head': 'Cowboy Ventures', 'type': 'INVESTS', 'tail': '€3.3 million'}, {'head': 'Passbase', 'type': 'RECEIVES', 'tail': '€3.3 million'}, {'head': 'Passbase', 'type': 'RECEIVES', 'tail': '€530k'}, {'head': '€530k', 'type': 'IN ROUND', 'tail': 'pre-seed round'}], [{'head': 'Scaled Roboticshas', 'type': 'RECEIVES', 'tail': '€2 million'}, {'head': 'Construct Venture', 'type': 'INVESTS', 'tail': '€2 million'}, {'head': 'Surplus', 'type': 'INVESTS', 'tail': '€2 million'}, {'head': '€2 million', 'type': 'IN ROUND', 'tail': 'seed funding'}], [{'head': 'Neobrain', 'type': 'RECEIVES', 'tail': '€20 million'}, {'head': 'Alter Equity', 'type': 'INVESTS', 'tail': '€20 million'}, {'head': 'Crédit Mutuel Innovation,', 'type': 'INVESTS', 'tail': '€20 million'}, {'head': 'XAnge', 'type': 'INVESTS', 'tail': '€20 million'}, {'head': 'Breega', 'type': 'INVESTS', 'tail': '€20 million'}, {'head': '€20 million', 'type': 'IN ROUND', 'tail': 'Series A'}], [{'head': 'Goldman Sachs', 'type': 'INVESTS', 'tail': '€25 million'}, {'head': 'Edex', 'type': 'INVESTS', 'tail': '€25 million'}, {'head': 'University Ventures', 'type': 'INVESTS', 'tail': '€25 million'}, {'head': 'the CDC Group', 'type': 'INVESTS', 'tail': '€25 million'}, {'head': 'the higher education platform', 'type': 'RECEIVES', 'tail': '€25 million'}, {'head': 'Cyprus', 'type': 'RECEIVES', 'tail': '€25 million'}, {'head': '€25 million', 'type': 'IN ROUND', 'tail': 'Series B'}], [{'head': 'WePopp', 'type': 'RECEIVES', 'tail': '€130K'}, {'head': 'angel investors', 'type': 'INVESTS', 'tail': '€130K'}], [{'head': 'ParkBee', 'type': 'RECEIVES', 'tail': '€5 million'}, {'head': 'Statkraft Ventures', 'type': 'INVESTS', 'tail': '€5 million'}, {'head': 'existing investors', 'type': 'INVESTS', 'tail': '€5 million'}], [{'head': 'Robo.cash', 'type': 'RECEIVES', 'tail': '€100 million'}], [{'head': 'Telness', 'type': 'RECEIVES', 'tail': '€1.5 million'}, {'head': 'Viveka Ekberg', 'type': 'INVESTS', 'tail': '€1.5 million'}, {'head': 'JCE Investments', 'type': 'INVESTS', 'tail': '€1.5 million'}, {'head': '€1.5 million', 'type': 'IN ROUND', 'tail': 'post-seed funding'}, {'head': 'Telness', 'type': '', 'tail': '€6.5 million'}], [{'head': 'Luckabox', 'type': 'RECEIVES', 'tail': 'seven-figure'}, {'head': 'Alpana Ventures', 'type': 'INVESTS', 'tail': 'seven-figure'}, {'head': 'SICTIC', 'type': 'INVESTS', 'tail': 'seven-figure'}, {'head': 'DAA Capital', 'type': 'INVESTS', 'tail': 'seven-figure'}, {'head': 'Bettina Hein', 'type': 'INVESTS', 'tail': 'seven-figure'}, {'head': 'seven-figure', 'type': 'IN ROUND', 'tail': 'pre-Series A'}], [{'head': 'Nauta Capital', 'type': 'INVESTS', 'tail': '€8 million'}, {'head': 'Greycroft', 'type': 'INVESTS', 'tail': '€8 million'}, {'head': 'Loyal Guru', 'type': 'RECEIVES', 'tail': '€8 million'}], [{'head': 'KKR', 'type': 'ACQUIRES', 'tail': 'heidelpay Group'}], [{'head': 'RealFevr', 'type': 'RECEIVES', 'tail': '€2.2 million'}, {'head': 'Shilling', 'type': 'INVESTS', 'tail': '€2.2 million'}, {'head': 'SportMultimédia', 'type': 'INVESTS', 'tail': '€2.2 million'}, {'head': 'Morningstar Ventures', 'type': 'INVESTS', 'tail': '€2.2 million'}, {'head': 'Moonrock Capital', 'type': 'INVESTS', 'tail': '€2.2 million'}, {'head': 'private investors', 'type': 'INVESTS', 'tail': '€2.2 million'}, {'head': '€2.2 million', 'type': 'IN ROUND', 'tail': 'Series A'}], [{'head': 'Orderchamp', 'type': 'RECEIVES', 'tail': '€16.6 million'}, {'head': 'Prime Ventures', 'type': 'INVESTS', 'tail': '€16.6 million'}, {'head': 'henQ', 'type': 'INVESTS', 'tail': '€16.6 million'}, {'head': 'business angels', 'type': 'INVESTS', 'tail': '€16.6 million'}, {'head': '€16.6 million', 'type': 'IN ROUND', 'tail': 'Series A'}], [{'head': 'Octopus Investments', 'type': 'INVESTS', 'tail': '€6.5 million'}, {'head': 'Ryte', 'type': 'RECEIVES', 'tail': '€6.5 million'}], [{'head': 'Knowunity', 'type': 'RECEIVES', 'tail': '€2 million'}, {'head': 'Mario Götze', 'type': 'INVESTS', 'tail': '€2 million'}, {'head': 'Verena Pausder', 'type': 'INVESTS', 'tail': '€2 million'}, {'head': 'Discovery Ventures', 'type': 'INVESTS', 'tail': '€2 million'}, {'head': 'Saarbrücker21', 'type': 'INVESTS', 'tail': '€2 million'}], [{'head': 'Freetrade', 'type': 'RECEIVES', 'tail': '€7.8 million'}, {'head': '8,000 people', 'type': 'INVESTS', 'tail': '€7.8 million'}, {'head': 'Draper Esprit', 'type': 'INVESTS', 'tail': '€13.7 million'}, {'head': 'Freetrade', 'type': 'RECEIVES', 'tail': '€13.7 million'}], [{'head': 'MunchFit', 'type': 'RECEIVES', 'tail': '€1.3 million'}, {'head': '330 ‘Fitvestors’', 'type': 'INVESTS', 'tail': '€1.3 million'}], [{'head': 'WeSustain', 'type': 'RECEIVES', 'tail': '€ 4 million'}, {'head': 'MBG', 'type': 'INVESTS', 'tail': '€ 4 million'}, {'head': 'HTGF', 'type': 'INVESTS', 'tail': '€ 4 million'}, {'head': 'VNT Management', 'type': 'INVESTS', 'tail': '€ 4 million'}, {'head': 'KfW', 'type': 'INVESTS', 'tail': '€ 4 million'}, {'head': '€ 4 million', 'type': 'IN ROUND', 'tail': 'Series B'}], [{'head': 'Active Partners', 'type': 'INVESTS', 'tail': '€9.3 million'}, {'head': 'Vinterior', 'type': 'RECEIVES', 'tail': '€9.3 million'}, {'head': 'Venrex', 'type': 'INVESTS', 'tail': '€9.3 million'}, {'head': '€9.3 million', 'type': 'IN ROUND', 'tail': 'Series A'}], [{'head': '“Future Fund” of the British government', 'type': 'INVESTS', 'tail': '€955K'}, {'head': 'Seedrs', 'type': 'INVESTS', 'tail': '€955K'}, {'head': 'Nebeus', 'type': 'RECEIVES', 'tail': '€955K'}], [{'head': 'Moodwork', 'type': 'RECEIVES', 'tail': '€2 million'}, {'head': 'Newfund', 'type': 'INVESTS', 'tail': '€2 million'}], [{'head': 'Connect Ventures', 'type': 'INVESTS', 'tail': '€1.3 million'}, {'head': 'UK Research and Innovation', 'type': 'INVESTS', 'tail': '€890k'}, {'head': 'Genie AI', 'type': 'RECEIVES', 'tail': '€1.3 million'}, {'head': 'Genie AI', 'type': 'RECEIVES', 'tail': '€890k'}, {'head': '€1.3 million', 'type': 'IN ROUND', 'tail': 'seed round'}], [{'head': 'Lisaqua', 'type': 'RECEIVES', 'tail': '€4.9 million'}], [{'head': 'Eligma', 'type': 'RECEIVES', 'tail': '€4 million'}, {'head': 'Bitcoin.com', 'type': 'INVESTS', 'tail': '€4 million'}, {'head': 'Roger Ver', 'type': 'INVESTS', 'tail': '€4 million'}], [{'head': 'Venture Kick', 'type': 'INVESTS', 'tail': '€150K'}, {'head': 'Bota Systems', 'type': 'RECEIVES', 'tail': '€150K'}], [{'head': 'Lakestar', 'type': 'INVESTS', 'tail': '€34 million'}, {'head': 'LocalGlobe', 'type': 'INVESTS', 'tail': '€34 million'}, {'head': 'Atomico', 'type': 'INVESTS', 'tail': '€34 million'}, {'head': 'GMG Ventures', 'type': 'INVESTS', 'tail': '€34 million'}, {'head': 'Octopus', 'type': 'INVESTS', 'tail': '€34 million'}, {'head': 'Streetbees', 'type': 'RECEIVES', 'tail': '€34 million'}, {'head': '€34 million', 'type': 'IN ROUND', 'tail': 'Series B'}], [{'head': 'Endeavour Vision', 'type': 'INVESTS', 'tail': '$7.5 million'}, {'head': 'IDinvest Partners', 'type': 'INVESTS', 'tail': '$7.5 million'}, {'head': 'Kobojo', 'type': 'RECEIVED TOTAL', 'tail': '$7.5 million'}, {'head': '$7.5 million', 'type': 'IN ROUND', 'tail': 'first round'}], [{'head': 'LifeTime', 'type': 'RECEIVES', 'tail': 'seven-digit'}, {'head': 'High-Tech Gründerfonds', 'type': 'INVESTS', 'tail': 'seven-digit'}, {'head': 'seven-digit', 'type': 'IN ROUND', 'tail': 'seed round'}], [{'head': 'Albacross', 'type': 'RECEIVES', 'tail': '$2.5 million'}, {'head': 'Luminar Ventures', 'type': 'INVESTS', 'tail': '$2.5 million'}, {'head': '$2.5 million', 'type': 'IN ROUND', 'tail': 'Seed financing'}, {'head': 'Albacross', 'type': '', 'tail': '$3.8 million'}], [{'head': 'StartupHighway', 'type': 'RECEIVES', 'tail': '25.000 €'}], [{'head': 'existing investors', 'type': 'INVESTS', 'tail': '€15 million'}, {'head': 'CommerzVentures', 'type': 'INVESTS', 'tail': '€15 million'}, {'head': 'Earlybird', 'type': 'INVESTS', 'tail': '€15 million'}, {'head': 'Getsafe', 'type': 'RECEIVES', 'tail': '€15 million'}, {'head': '€15 million', 'type': 'IN ROUND', 'tail': 'Series A'}], [{'head': 'Huddle', 'type': 'RECEIVES', 'tail': '$51 million'}, {'head': 'Zouk Capital', 'type': 'INVESTS', 'tail': '$51 million'}, {'head': 'Hermes GPE Environmental Innovation Fund', 'type': 'INVESTS', 'tail': '$51 million'}, {'head': 'existing investors', 'type': 'INVESTS', 'tail': '$51 million'}, {'head': 'Matrix Partners', 'type': 'INVESTS', 'tail': '$51 million'}, {'head': 'Jafco Ventures', 'type': 'INVESTS', 'tail': '$51 million'}, {'head': 'DAG Ventures', 'type': 'INVESTS', 'tail': '$51 million'}, {'head': 'Eden Ventures', 'type': 'INVESTS', 'tail': '$51 million'}, {'head': '$51 million', 'type': 'IN ROUND', 'tail': 'Series D'}], [{'head': 'Caixa Capital Risc', 'type': 'INVESTS', 'tail': '$26 million'}, {'head': 'General Atlantic', 'type': 'INVESTS', 'tail': '$26 million'}, {'head': 'Insight Venture Partners', 'type': 'INVESTS', 'tail': '$26 million'}, {'head': 'Index Ventures', 'type': 'INVESTS', 'tail': '$26 million'}, {'head': 'Nauta Capital', 'type': 'INVESTS', 'tail': '$26 million'}, {'head': 'Groupalia', 'type': 'RECEIVES', 'tail': '$26 million'}, {'head': 'others', 'type': 'INVESTS', 'tail': '$26 million'}], [{'head': 'Hoccer', 'type': 'RECEIVES', 'tail': '€50 million'}, {'head': 'Dirk Ströer', 'type': 'INVESTS', 'tail': '€50 million'}], [{'head': 'HV Holtzbrinck Ventures', 'type': 'INVESTS', 'tail': '€19.2 million'}, {'head': 'Source Code Capital', 'type': 'INVESTS', 'tail': '€19.2 million'}, {'head': 'Wind Mobility', 'type': 'RECEIVES', 'tail': '€19.2 million'}, {'head': '€19.2 million', 'type': 'IN ROUND', 'tail': 'seed round'}], [{'head': 'angel investors', 'type': 'INVESTS', 'tail': '€5.3 million'}, {'head': 'INKEF Capital', 'type': 'INVESTS', 'tail': '€5.3 million'}, {'head': 'Castor EDC', 'type': 'RECEIVES', 'tail': '€5.3 million'}, {'head': '€5.3 million', 'type': 'IN ROUND', 'tail': 'Series A'}], [{'head': 'Groover', 'type': 'RECEIVES', 'tail': '€6 million'}, {'head': 'Partech', 'type': 'INVESTS', 'tail': '€6 million'}, {'head': 'Bpifrance', 'type': 'INVESTS', 'tail': '€6 million'}], [{'head': 'NUMA Barcelona', 'type': 'INVESTS', 'tail': '€750K.'}, {'head': 'Sergio Canales', 'type': 'INVESTS', 'tail': '€750K.'}, {'head': 'David Nuñez', 'type': 'INVESTS', 'tail': '€750K.'}, {'head': 'Sebastian Lefebvre', 'type': 'INVESTS', 'tail': '€750K.'}, {'head': 'Vitcord', 'type': 'RECEIVES', 'tail': '€750K.'}], [{'head': 'Brille24', 'type': 'RECEIVES', 'tail': '€12 million'}, {'head': 'DATE', 'type': 'INVESTS', 'tail': '€12 million'}], [{'head': 'TAIA', 'type': 'RECEIVES', 'tail': '€1.2 million'}, {'head': 'Fil Rouge Capital', 'type': 'INVESTS', 'tail': '€1.2 million'}, {'head': '€1.2 million', 'type': 'INVESTS', 'tail': '€1.2 million'}, {'head': '€1.2 million', 'type': 'IN ROUND', 'tail': 'seed funding'}], [{'head': 'Ergosup', 'type': 'RECEIVES', 'tail': '€11 million'}, {'head': 'PSIM (Major Innovation Support Program) fund', 'type': 'INVESTS', 'tail': '€11 million'}, {'head': 'Bpifrance', 'type': 'INVESTS', 'tail': '€11 million'}, {'head': 'AP Ventures', 'type': 'INVESTS', 'tail': '€11 million'}, {'head': 'Kouros', 'type': 'INVESTS', 'tail': '€11 million'}, {'head': 'Normandie Participations', 'type': 'INVESTS', 'tail': '€11 million'}, {'head': 'ALIAD (Air Liquide Venture Capital)', 'type': 'INVESTS', 'tail': '€11 million'}, {'head': 'Demeter Ventures', 'type': 'INVESTS', 'tail': '€11 million'}, {'head': 'Go Capital', 'type': 'INVESTS', 'tail': '€11 million'}, {'head': 'Arkéa Capital', 'type': 'INVESTS', 'tail': '€11 million'}], [{'head': 'Drover', 'type': 'RECEIVES', 'tail': '€22.6 million'}, {'head': 'Target Global', 'type': 'INVESTS', 'tail': '€22.6 million'}, {'head': 'Autotech Ventures', 'type': 'INVESTS', 'tail': '€22.6 million'}, {'head': '4 Ventures', 'type': 'INVESTS', 'tail': '€22.6 million'}, {'head': 'Rider Global', 'type': 'INVESTS', 'tail': '€22.6 million'}, {'head': 'Cherry Ventures', 'type': 'INVESTS', 'tail': '€22.6 million'}, {'head': 'bp ventures', 'type': 'INVESTS', 'tail': '€22.6 million'}, {'head': 'Partech', 'type': 'INVESTS', 'tail': '€22.6 million'}, {'head': 'Version', 'type': 'INVESTS', 'tail': '€22.6 million'}, {'head': 'Forward Partners', 'type': 'INVESTS', 'tail': '€22.6 million'}], [{'head': 'existing investors', 'type': 'INVESTS', 'tail': '€3.5 million'}, {'head': 'Hevella Capital', 'type': 'INVESTS', 'tail': '€3.5 million'}, {'head': 'cashpresso', 'type': 'RECEIVES', 'tail': '€3.5 million'}], [{'head': 'Carsnip', 'type': 'RECEIVES', 'tail': '$1 million'}], [{'head': 'Anyline', 'type': 'RECEIVES', 'tail': '€2 million'}, {'head': 'PUSH Ventures', 'type': 'INVESTS', 'tail': '€2 million'}, {'head': 'Senovo', 'type': 'INVESTS', 'tail': '€2 million'}], [{'head': 'In-Q-Tel, Inc.', 'type': 'INVESTS', 'tail': '€8 million'}, {'head': 'YOU.S. intelligence', 'type': 'INVESTS', 'tail': '€8 million'}, {'head': 'defense agencies', 'type': 'INVESTS', 'tail': '€8 million'}, {'head': 'Red Sift', 'type': 'RECEIVES', 'tail': '€8 million'}, {'head': '€8 million', 'type': 'IN ROUND', 'tail': 'Series A'}], [{'head': 'Virtuo', 'type': 'RECEIVES', 'tail': '€20 million'}, {'head': 'Iris Capital', 'type': 'INVESTS', 'tail': '€20 million'}, {'head': 'RAISE Ventures', 'type': 'INVESTS', 'tail': '€20 million'}, {'head': 'Balderton Capital', 'type': 'INVESTS', 'tail': '€20 million'}, {'head': '€20 million', 'type': 'IN ROUND', 'tail': 'Series B'}], [{'head': 'Peak', 'type': 'RECEIVES', 'tail': '€11.8 million'}, {'head': 'MMC Ventures', 'type': 'INVESTS', 'tail': '€11.8 million'}, {'head': 'Praetura Ventures', 'type': 'INVESTS', 'tail': '€11.8 million'}, {'head': '€11.8 million', 'type': 'IN ROUND', 'tail': 'series A'}], [{'head': 'Yuilop', 'type': 'RECEIVES', 'tail': '1 million Euro'}, {'head': 'Nauta Capital', 'type': 'INVESTS', 'tail': '1 million Euro'}, {'head': '1 million Euro', 'type': 'IN ROUND', 'tail': 'seed funding'}], [{'head': 'Akeneo', 'type': 'RECEIVES', 'tail': '€41 million'}, {'head': 'Summit Partners', 'type': 'INVESTS', 'tail': '€41 million'}, {'head': 'Alven', 'type': 'INVESTS', 'tail': '€41 million'}, {'head': 'Partech', 'type': 'INVESTS', 'tail': '€41 million'}, {'head': 'Salesforce Ventures', 'type': 'INVESTS', 'tail': '€41 million'}, {'head': 'Stephan Dietrich', 'type': 'INVESTS', 'tail': '€41 million'}, {'head': '€41 million', 'type': 'IN ROUND', 'tail': 'Series C'}], [{'head': 'Restb.ai', 'type': 'RECEIVES', 'tail': '€1.7 million'}], [{'head': 'RAISE Ventures', 'type': 'INVESTS', 'tail': '€5 million'}, {'head': 'finfrog', 'type': 'RECEIVES', 'tail': '€5 million'}], [{'head': 'Fever', 'type': 'RECEIVES', 'tail': '$35 million'}, {'head': 'Rakuten Capital', 'type': 'INVESTS', 'tail': '$35 million'}, {'head': 'Atresmedia', 'type': 'INVESTS', 'tail': '$35 million'}, {'head': 'Accel', 'type': 'INVESTS', 'tail': '$35 million'}, {'head': 'Michael Zeisser', 'type': 'INVESTS', 'tail': '$35 million'}], [{'head': 'ScanMovers', 'type': 'RECEIVES', 'tail': '€750k'}, {'head': 'angel investors', 'type': 'INVESTS', 'tail': '€750k'}], [{'head': 'Doktor.se', 'type': 'RECEIVES', 'tail': '€45 million'}, {'head': 'Carnegie', 'type': 'INVESTS', 'tail': '€45 million'}, {'head': 'Handelsbanken', 'type': 'INVESTS', 'tail': '€45 million'}, {'head': 'Doktor.se', 'type': 'RECEIVES', 'tail': '€10 million'}, {'head': '€45 million', 'type': 'IN ROUND', 'tail': 'Series C'}], [{'head': 'Dealroom', 'type': 'RECEIVES', 'tail': '€6 million'}, {'head': 'Beringea', 'type': 'INVESTS', 'tail': '€6 million'}, {'head': 'Knight Venture Capital', 'type': 'INVESTS', 'tail': '€6 million'}, {'head': 'Shoe Investments', 'type': 'INVESTS', 'tail': '€6 million'}, {'head': 'Dealroom', 'type': 'RECEIVES', 'tail': '€2.75 million'}, {'head': '€6 million', 'type': 'IN ROUND', 'tail': 'Series A'}, {'head': '€2.75 million', 'type': 'IN ROUND', 'tail': 'Series A'}, {'head': '€2.75 million', 'type': '', 'tail': 'In 2020'}], [{'head': 'Argent', 'type': 'RECEIVES', 'tail': '€10.4 million'}, {'head': 'Paradigm', 'type': 'INVESTS', 'tail': '€10.4 million'}, {'head': 'Index Ventures', 'type': 'INVESTS', 'tail': '€10.4 million'}, {'head': 'Creandum', 'type': 'INVESTS', 'tail': '€10.4 million'}, {'head': 'firstminute capital', 'type': 'INVESTS', 'tail': '€10.4 million'}, {'head': '€10.4 million', 'type': 'IN ROUND', 'tail': 'Series A'}], [{'head': 'Quipu', 'type': 'RECEIVES', 'tail': '€2 million'}], [{'head': 'Attention Insight', 'type': 'RECEIVES', 'tail': '€285K'}, {'head': 'Lithuanian and Polish venture capital funds', 'type': 'INVESTS', 'tail': '€285K'}], [{'head': 'DN Capital LLP', 'type': 'RECEIVES', 'tail': '$200 million'}], [{'head': 'Xampla', 'type': 'RECEIVES', 'tail': '€6.8 million'}, {'head': 'Horizons Ventures', 'type': 'INVESTS', 'tail': '€6.8 million'}, {'head': 'Mr Li Ka-shing', 'type': 'INVESTS', 'tail': '€6.8 million'}], [{'head': 'Lakestar', 'type': 'INVESTS', 'tail': '€62.4 million'}, {'head': 'Accel', 'type': 'INVESTS', 'tail': '€62.4 million'}, {'head': 'HV Holtzbrinck Ventures', 'type': 'INVESTS', 'tail': '€62.4 million'}, {'head': 'Project A', 'type': 'INVESTS', 'tail': '€62.4 million'}, {'head': 'Siemens’ Next47', 'type': 'INVESTS', 'tail': '€62.4 million'}, {'head': 'H14', 'type': 'INVESTS', 'tail': '€62.4 million'}, {'head': 'Scania Growth Capital', 'type': 'INVESTS', 'tail': '€62.4 million'}, {'head': 'Sennder', 'type': 'RECEIVES', 'tail': '€62.4 million'}, {'head': '€62.4 million', 'type': 'IN ROUND', 'tail': 'Series C'}], [{'head': 'Bigblue', 'type': 'RECEIVES', 'tail': '€13.6 million'}, {'head': 'Runa Capital', 'type': 'INVESTS', 'tail': '€13.6 million'}, {'head': 'LPV', 'type': 'INVESTS', 'tail': '€13.6 million'}, {'head': 'Samaipata', 'type': 'INVESTS', 'tail': '€13.6 million'}, {'head': '€13.6 million', 'type': 'IN ROUND', 'tail': 'Series A'}]]\n"
     ]
    },
    {
     "name": "stderr",
     "output_type": "stream",
     "text": [
      "\n"
     ]
    }
   ],
   "source": [
    "predict_df = pd.read_csv('../documents/results/ai_results.csv', sep='\\t')\n",
    "#labels_df = pd.read_csv('../documents/test_texts_NOGROUP.csv', sep='\\t')\n",
    "predict_df = predict_df.dropna()\n",
    "predictions = list()\n",
    "print(len(predict_df))\n",
    "\n",
    "for index, row in tqdm(predict_df.iterrows()):\n",
    "    marker1, marker2, marker3 = '<triplet>', '<sub>', '<obj>'\n",
    "    rp1 = marker1 + '.+?' + marker2\n",
    "    rp2 = marker2 + '.+?' + marker3\n",
    "    rp3 = marker3 + '.+?' + marker1\n",
    "    head_ents = re.findall(rp1, row.triplets)\n",
    "    tail_ents = re.findall(rp2, row.triplets)\n",
    "    preds = re.findall(rp3, row.triplets)\n",
    "\n",
    "    head_ents_clean = list()\n",
    "    tail_ents_clean = list()\n",
    "    preds_clean = list()\n",
    "\n",
    "    for i in head_ents:\n",
    "        result = re.search('<triplet>(.*)<sub>', i)\n",
    "        head_ents_clean.append(result.group(1).strip())\n",
    "    for i in tail_ents:\n",
    "        result = re.search('<sub>(.*)<obj>', i)\n",
    "        tail_ents_clean.append(result.group(1).strip())\n",
    "    for i in preds:\n",
    "        result = re.search('<obj>(.*)<triplet>', i)\n",
    "        preds_clean.append(result.group(1).strip())\n",
    "\n",
    "    len_str = len(row.triplets)\n",
    "    if len(preds_clean) < len(head_ents_clean):\n",
    "        work = row.triplets[len_str - 11 :]\n",
    "        last_rel = work.partition(\">\")[2]\n",
    "        preds_clean.append(last_rel.strip())\n",
    "\n",
    "\n",
    "    sample = list()\n",
    "    for i in range(len(head_ents_clean)):\n",
    "        entry = dict()\n",
    "        entry['head'] = head_ents_clean[i]\n",
    "        entry['type'] = preds_clean[i]\n",
    "        entry['tail'] = tail_ents_clean[i]\n",
    "        sample.append(entry)\n",
    "\n",
    "    predictions.append(sample)\n",
    "\n",
    "\n",
    "\n",
    "predictions_cleaned = []\n",
    "for i in predictions:\n",
    "    entry = []\n",
    "    for u in i:\n",
    "        if not entry:\n",
    "            entry.append(u)\n",
    "        elif u not in entry:\n",
    "            entry.append(u)\n",
    "\n",
    "    predictions_cleaned.append(entry)\n",
    "\n",
    "print(predictions_cleaned)"
   ],
   "metadata": {
    "collapsed": false,
    "ExecuteTime": {
     "start_time": "2023-03-14T20:56:39.882523Z",
     "end_time": "2023-03-14T20:56:39.899918Z"
    }
   }
  },
  {
   "cell_type": "markdown",
   "id": "93c8b9f2-670d-473f-846a-13d3e1b83402",
   "metadata": {},
   "source": [
    "## Metric definition"
   ]
  },
  {
   "cell_type": "code",
   "execution_count": 189,
   "id": "6fb03fad-a0db-4a7b-a83e-879f311ac4ad",
   "metadata": {
    "ExecuteTime": {
     "start_time": "2023-03-14T20:56:40.284104Z",
     "end_time": "2023-03-14T20:56:40.290625Z"
    }
   },
   "outputs": [],
   "source": [
    "def calculate_metrics(tp, fp, rel):\n",
    "    precision = 100 * (len(tp) / (len(tp) + len(fp))) \n",
    "    recall = 100 * (len(tp) / rel)\n",
    "    f1score = 2* ( (precision * recall) / (precision + recall) )\n",
    "    return precision, recall, f1score"
   ]
  },
  {
   "cell_type": "code",
   "execution_count": 190,
   "id": "c8041dbf-e877-4337-964b-48fd6bb443b1",
   "metadata": {
    "ExecuteTime": {
     "start_time": "2023-03-14T20:56:40.460763Z",
     "end_time": "2023-03-14T20:56:40.465316Z"
    }
   },
   "outputs": [],
   "source": [
    "def tp_fp_fn_rel(approach, gold, pred):\n",
    "    \n",
    "    tp, fp, rel, fn = list(), list(), int(), list()\n",
    "    \n",
    "    \"\"\"tp if whole triplet is correctly predicted\"\"\"\n",
    "    if approach == 'triplet': \n",
    "        #calculate tp and fp\n",
    "        print(len(pred))\n",
    "        print(len(gold))\n",
    "        for i in enumerate(pred):\n",
    "            for u in i[1]:\n",
    "                if u in gold[i[0]]:\n",
    "                    tp.append(u)\n",
    "                else:\n",
    "                    fp.append(u)\n",
    "            for u in gold[i[0]]:\n",
    "                rel+=1\n",
    "                if u not in i[1]:\n",
    "                    fn.append(u)\n",
    "            \n",
    "\n",
    "    \"\"\"PROBLEM FOR ALL OF THEM\"\"\"\n",
    "    \"\"\"WE CANNOT COMPARE PER TRIPLET BUT PER ARTICLE\"\"\"\n",
    "    \"\"\"THEREFORE, ONLY SET-WISE COMPARISON MAKES SENSE\"\"\"\n",
    "    \n",
    "    \n",
    "    \"\"\"tp if head is correctly predicted\"\"\"\n",
    "    if approach == 'head':\n",
    "        #calculate tp and fp\n",
    "        for i in enumerate(pred):\n",
    "            #calculate tp heads for each article\n",
    "            \n",
    "            gold_heads = list()\n",
    "            for u in enumerate(gold[i[0]]):\n",
    "                gold_heads.append(u[1]['head'])\n",
    "            gold_heads = set(gold_heads)\n",
    "            \n",
    "            preds_sample = list()\n",
    "            for u in i[1]:\n",
    "                preds_sample.append(u['head'])\n",
    "            preds_sample = set(preds_sample)\n",
    "            \n",
    "            #check for each article if prediction heads occur in gold heads\n",
    "            for u in preds_sample:\n",
    "                if u in gold_heads:\n",
    "                    tp.append(u)\n",
    "                else:\n",
    "                    fp.append(u)\n",
    "                    \n",
    "            for u in gold_heads:\n",
    "                rel +=1\n",
    "                if u not in preds_sample:\n",
    "                    fn.append(u)\n",
    "        \n",
    "    \"\"\"tp if tail is correctly predicted\"\"\"    \n",
    "    if approach == 'tail':\n",
    "        #calculate tp and fp\n",
    "        for i in enumerate(pred):\n",
    "            #calculate tp heads for each article\n",
    "            \n",
    "            gold_tails = list()\n",
    "            for u in enumerate(gold[i[0]]):\n",
    "                gold_tails.append(u[1]['tail'])\n",
    "            gold_tails = set(gold_tails)\n",
    "            \n",
    "            preds_sample = list()\n",
    "            for u in i[1]:\n",
    "                preds_sample.append(u['tail'])\n",
    "            preds_sample = set(preds_sample)\n",
    "            \n",
    "            #check for each article if prediction heads occur in gold heads\n",
    "            for u in preds_sample:\n",
    "                if u in gold_tails:\n",
    "                    tp.append(u)\n",
    "                else:\n",
    "                    fp.append(u)\n",
    "                    \n",
    "            for u in gold_tails:\n",
    "                rel +=1\n",
    "                if u not in preds_sample:\n",
    "                    fn.append(u)\n",
    "    \n",
    "    \"\"\"tp if relation is correctly predicted\"\"\"\n",
    "    if approach == 'relation':\n",
    "        #calculate tp and fp\n",
    "        for i in enumerate(pred):\n",
    "            #calculate tp heads for each article\n",
    "            \n",
    "            gold_types = list()\n",
    "            for u in enumerate(gold[i[0]]):\n",
    "                gold_types.append(u[1]['type'])\n",
    "            gold_types = set(gold_types)\n",
    "            \n",
    "            preds_sample = list()\n",
    "            for u in i[1]:\n",
    "                preds_sample.append(u['type'])\n",
    "            preds_sample = set(preds_sample)\n",
    "            \n",
    "            #check for each article if prediction heads occur in gold heads\n",
    "            for u in preds_sample:\n",
    "                if u in gold_types:\n",
    "                    tp.append(u)\n",
    "                else:\n",
    "                    fp.append(u)\n",
    "                    \n",
    "            for u in gold_types:\n",
    "                rel +=1\n",
    "                if u not in preds_sample:\n",
    "                    fn.append(u)\n",
    "    \n",
    "    return tp, fp, fn, rel"
   ]
  },
  {
   "cell_type": "code",
   "execution_count": 191,
   "id": "f03517f9-7d8a-4ba0-87c1-7492054ba2c4",
   "metadata": {
    "ExecuteTime": {
     "start_time": "2023-03-14T20:56:40.638044Z",
     "end_time": "2023-03-14T20:56:40.645291Z"
    }
   },
   "outputs": [],
   "source": [
    "def confusion_matrix(tp, fp, fn, title, tn = 0):\n",
    "   # sns.set(font_scale=2)\n",
    "   # cm = np.array([[len(tp), len(fp)], [len(fn), tn]])\n",
    "   # classes = ['true triplets', 'false triplets']\n",
    "   # \n",
    "   # fig, axs = plt.subplots()\n",
    "   # plt.subplots_adjust(left=0.2, bottom=0.2)\n",
    "   # \n",
    "   # hm = sns.heatmap(cm, cmap = custom_color_map, annot=True, xticklabels=classes, yticklabels=classes, cbar=False, fmt=\"d\",ax = axs)\n",
    "   # hm.set(title=title, xlabel=\"predicted label\", ylabel=\"true label\")\n",
    "   # sns.set_theme(rc = {'figure.figsize':(10,7)})\n",
    "   # precision, recall, f1score = calculate_metrics(tp, fp, rel)\n",
    "   # \n",
    "   # table = plt.table(cellText=[[round(precision, 1)], [round(recall, 1)], [round(f1score, 1)]], \n",
    "   #                 rowLabels=['Precision', 'Recall', 'F1-Score'],\n",
    "   #                 colLabels=['Value [%]'],\n",
    "   #                 bbox = ([0.3, -0.6, 0.5, 0.3]))\n",
    "   # \n",
    "   # fig.savefig('test.svg')\n",
    "   # plt.show()\n",
    "\n",
    "\n",
    "    sns.set(font_scale=2)\n",
    "    cm = np.array([[len(tp), len(fn)], [len(fp), tn]])\n",
    "    classes = ['true triplets', 'false triplets']\n",
    "    \n",
    "    fig, ax = plt.subplots(figsize=(10,6))\n",
    "    ax = sns.heatmap(cm, cmap=custom_color_map, annot=True, xticklabels=classes, yticklabels=classes, cbar=False, fmt=\"d\")\n",
    "    ax.set(title=title, xlabel=\"predicted label\", ylabel=\"true label\")\n",
    "    fig.savefig('Result.svg')"
   ]
  },
  {
   "cell_type": "code",
   "execution_count": 192,
   "id": "15e31674-ce0d-4ca4-a1dd-2705abe5b4b7",
   "metadata": {
    "tags": [],
    "ExecuteTime": {
     "start_time": "2023-03-14T20:56:40.808668Z",
     "end_time": "2023-03-14T20:56:40.884673Z"
    }
   },
   "outputs": [
    {
     "name": "stdout",
     "output_type": "stream",
     "text": [
      "177\n",
      "177\n",
      "METRICS\n",
      "-------------------------\n",
      "Precision:  100.0 %\n",
      "Recall:  100.0 %\n",
      "F1-Score:  100.0 %\n"
     ]
    },
    {
     "data": {
      "text/plain": "<Figure size 1000x600 with 1 Axes>",
      "image/png": "[encoded data removed]"
     },
     "metadata": {},
     "output_type": "display_data"
    }
   ],
   "source": [
    "tp, fp, fn, rel = tp_fp_fn_rel('triplet', gold_cleaned, predictions_cleaned) #TODO: hier change that!\n",
    "\n",
    "precision, recall, f1score = calculate_metrics(tp, fp, rel)\n",
    "\n",
    "#title = \"confusion matrix for predictions on text\"\n",
    "confusion_matrix(tp, fp, fn, title = None)\n",
    "\n",
    "print('METRICS')\n",
    "print('-------------------------')\n",
    "print('Precision: ', round(precision, 2), '%')\n",
    "print('Recall: ', round(recall, 2), '%')\n",
    "print('F1-Score: ', round(f1score, 2), '%')"
   ]
  },
  {
   "cell_type": "markdown",
   "id": "c86505c9-72b3-4802-852e-aa0d6ded02b0",
   "metadata": {},
   "source": [
    "# Error Analysis"
   ]
  },
  {
   "cell_type": "code",
   "execution_count": 193,
   "id": "0eb30b6c-69c6-4431-9604-99f95ea8f4df",
   "metadata": {
    "ExecuteTime": {
     "start_time": "2023-03-14T20:56:41.604293Z",
     "end_time": "2023-03-14T20:56:41.612321Z"
    }
   },
   "outputs": [],
   "source": [
    "def error_analysis(approach, gold, pred):\n",
    "    \n",
    "    tp, fp, rel, fn, index_fp, index_fn = list(), list(), int(), list(), list(), list()\n",
    "    \n",
    "    \"\"\"tp if whole triplet is correctly predicted\"\"\"\n",
    "    if approach == 'triplet': \n",
    "        #calculate tp and fp\n",
    "        for i in enumerate(pred): \n",
    "            for u in i[1]:\n",
    "                if u in gold[i[0]]:\n",
    "                    tp.append(u)\n",
    "                else:\n",
    "                    fp.append(u)\n",
    "                    index_fp.append(i[0])\n",
    "            \n",
    "            for u in gold[i[0]]:\n",
    "                rel+=1\n",
    "                if u not in i[1]:\n",
    "                    fn.append(u)\n",
    "                    index_fn.append(i[0])\n",
    "            \n",
    "\n",
    "    return fp, index_fp, fn, index_fn"
   ]
  },
  {
   "cell_type": "code",
   "execution_count": 194,
   "id": "1476a10a-6444-4e07-8eba-ee9cb25e19a0",
   "metadata": {
    "ExecuteTime": {
     "start_time": "2023-03-14T20:56:42.207301Z",
     "end_time": "2023-03-14T20:56:42.212809Z"
    }
   },
   "outputs": [],
   "source": [
    "fp_e, index_fp, fn_e, index_fn = error_analysis('triplet', gold_cleaned, predictions_cleaned) #change that!"
   ]
  },
  {
   "cell_type": "code",
   "execution_count": 195,
   "id": "709c463c-6a87-43d9-99af-6b7242c05d69",
   "metadata": {
    "ExecuteTime": {
     "start_time": "2023-03-14T20:56:42.546429Z",
     "end_time": "2023-03-14T20:56:42.611264Z"
    }
   },
   "outputs": [
    {
     "name": "stderr",
     "output_type": "stream",
     "text": [
      "C:\\Users\\Carina\\AppData\\Local\\Temp\\ipykernel_36848\\3927736000.py:8: FutureWarning: save is not part of the public API, usage can give unexpected results and will be removed in a future version\n",
      "  writer.save()\n"
     ]
    }
   ],
   "source": [
    "import pandas as pd\n",
    "\n",
    "new_list = [index_fp, fp_e, index_fn, fn_e]\n",
    "df = pd.DataFrame(new_list)\n",
    "\n",
    "writer = pd.ExcelWriter('errors.xlsx', engine='xlsxwriter')\n",
    "df.to_excel(writer, sheet_name='errors_raw', index=False)\n",
    "writer.save()"
   ]
  },
  {
   "cell_type": "code",
   "execution_count": 196,
   "id": "c2c122df-f7e2-441d-9c23-0164679373d2",
   "metadata": {
    "ExecuteTime": {
     "start_time": "2023-03-14T20:56:42.742336Z",
     "end_time": "2023-03-14T20:56:42.750020Z"
    }
   },
   "outputs": [
    {
     "data": {
      "text/plain": "0"
     },
     "execution_count": 196,
     "metadata": {},
     "output_type": "execute_result"
    }
   ],
   "source": [
    "len(fp_e)\n"
   ]
  },
  {
   "cell_type": "code",
   "execution_count": 197,
   "id": "06f39431-b8be-47b1-9dec-dad5619ecf9c",
   "metadata": {
    "ExecuteTime": {
     "start_time": "2023-03-14T20:56:43.391771Z",
     "end_time": "2023-03-14T20:56:43.439748Z"
    }
   },
   "outputs": [
    {
     "data": {
      "text/plain": "0"
     },
     "execution_count": 197,
     "metadata": {},
     "output_type": "execute_result"
    }
   ],
   "source": [
    "len(fn_e)"
   ]
  },
  {
   "cell_type": "code",
   "execution_count": null,
   "id": "b9787559-959f-4f77-9929-da03369a7d06",
   "metadata": {},
   "outputs": [],
   "source": []
  }
 ],
 "metadata": {
  "kernelspec": {
   "display_name": "Python 3 (ipykernel)",
   "language": "python",
   "name": "python3"
  },
  "language_info": {
   "codemirror_mode": {
    "name": "ipython",
    "version": 3
   },
   "file_extension": ".py",
   "mimetype": "text/x-python",
   "name": "python",
   "nbconvert_exporter": "python",
   "pygments_lexer": "ipython3",
   "version": "3.9.12"
  }
 },
 "nbformat": 4,
 "nbformat_minor": 5
}
